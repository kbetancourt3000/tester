{
 "cells": [
  {
   "cell_type": "markdown",
   "metadata": {
    "pycharm": {
     "name": "#%% md\n"
    }
   },
   "source": [
    "# Initial data rules"
   ]
  },
  {
   "cell_type": "code",
   "execution_count": 595,
   "metadata": {
    "pycharm": {
     "name": "#%%\n"
    }
   },
   "outputs": [],
   "source": [
    "import numpy as np\n",
    "import pandas as pd\n",
    "from pathlib import Path\n",
    "\n",
    "\n",
    "size_predictor_name = 'jeans_indigo_old'\n",
    "waist_rules = [\n",
    "    [60., 65.9, '0'],      # 0 | 60 - 65\n",
    "    [66., 71.9, '2'],       # 1 | 66 - 71\n",
    "    [72., 80.9, '4'],       # 2 | 72 - 80\n",
    "    [81., 87.9, '6'],       # 3 | 81 - 87\n",
    "    [88., 97.9, '8'],       # 4 | 88 - 97\n",
    "    [98., 106.9, '10'],    # 5 | 98 - 106\n",
    "    [107., 114.9, '12'],     # 6 | 107 - 114\n",
    "    [115., 121., '16'],     # 7 | 115 - 120\n",
    "]\n",
    "\n",
    "hips_rules = [\n",
    "    [85., 90.9, '6'],       # 0 | 85 - 90\n",
    "    [91., 96.9, '8'],       # 1 | 91 - 96\n",
    "    [97., 104.9, '10'],    # 2 | 97 - 104\n",
    "    [105., 108.9, '12'],    # 3 | 105 - 108\n",
    "    [109., 113.9, '14'],    # 4 | 109 - 113\n",
    "    [114., 117.9, '16'],   # 5 | 114 - 117\n",
    "    [118., 122.9, '18'],     # 6 | 118 - 122\n",
    "    [123., 127., '20'],    # 7 | 123 - 126\n",
    "]\n",
    "\n",
    "size_rules = [\n",
    "    [waist_rules[0], hips_rules[0], '0-6'],\n",
    "    [waist_rules[0], hips_rules[1], '0-8'],\n",
    "    [waist_rules[1], hips_rules[0], '2-6'],\n",
    "    [waist_rules[1], hips_rules[1], '2-8'],\n",
    "    [waist_rules[1], hips_rules[2], '2-10'],\n",
    "    [waist_rules[1], hips_rules[3], '2-12'],\n",
    "    [waist_rules[2], hips_rules[2], '4-10'],\n",
    "    [waist_rules[2], hips_rules[3], '4-12'],\n",
    "    [waist_rules[2], hips_rules[4], '4-14'],\n",
    "    [waist_rules[3], hips_rules[4], '6-14'],\n",
    "    [waist_rules[4], hips_rules[4], '8-14'],\n",
    "    [waist_rules[5], hips_rules[5], '10-16'],\n",
    "    [waist_rules[5], hips_rules[6], '10-18'],\n",
    "    [waist_rules[6], hips_rules[5], '12-16'],\n",
    "    [waist_rules[6], hips_rules[6], '12-18'],\n",
    "    [waist_rules[7], hips_rules[7], '16-20'],\n",
    "]\n",
    "\n",
    "size_data = []"
   ]
  },
  {
   "cell_type": "markdown",
   "metadata": {
    "pycharm": {
     "name": "#%% md\n"
    }
   },
   "source": [
    "# Generate table from size rules"
   ]
  },
  {
   "cell_type": "code",
   "execution_count": 596,
   "metadata": {
    "pycharm": {
     "name": "#%%\n"
    }
   },
   "outputs": [],
   "source": [
    "for rule in size_rules:\n",
    "    waist_range = rule[0]\n",
    "    hips_range = rule[1]\n",
    "    current_size = rule[2]\n",
    "    w_range = np.arange(waist_range[0], waist_range[1], 0.25)\n",
    "    h_range = np.arange(hips_range[0], hips_range[1], 0.25)\n",
    "    for w in w_range:\n",
    "        for h in h_range:\n",
    "            wh_data = [\n",
    "                w,\n",
    "                h,\n",
    "                current_size,\n",
    "            ]\n",
    "            size_data.append(wh_data)\n"
   ]
  },
  {
   "cell_type": "markdown",
   "metadata": {
    "pycharm": {
     "name": "#%% md\n"
    }
   },
   "source": [
    "# Save data generated"
   ]
  },
  {
   "cell_type": "code",
   "execution_count": 597,
   "metadata": {
    "pycharm": {
     "name": "#%%\n"
    }
   },
   "outputs": [],
   "source": [
    "df = pd.DataFrame(size_data)\n",
    "df.rename(columns={0: 'waist', 1: 'hips', 2: 'size'}, inplace=True)\n",
    "df.dropna(axis=1, inplace=True)\n",
    "df = df.drop_duplicates()\n",
    "table_name = f\"../../generated/tables/{size_predictor_name}.csv\"\n",
    "filepath = Path(table_name)\n",
    "filepath.parent.mkdir(parents=True, exist_ok=True)\n",
    "df.to_csv(filepath, encoding='utf-8', index=False)\n"
   ]
  },
  {
   "cell_type": "markdown",
   "metadata": {
    "pycharm": {
     "name": "#%% md\n"
    }
   },
   "source": [
    "# Describe data-set"
   ]
  },
  {
   "cell_type": "code",
   "execution_count": 598,
   "metadata": {
    "pycharm": {
     "name": "#%%\n"
    }
   },
   "outputs": [
    {
     "data": {
      "text/plain": "              waist          hips\ncount  10096.000000  10096.000000\nmean      83.726823    106.482765\nstd       17.261658     10.939790\nmin       60.000000     85.000000\n25%       69.500000     97.750000\n50%       77.750000    108.250000\n75%      100.000000    115.000000\nmax      120.750000    126.750000",
      "text/html": "<div>\n<style scoped>\n    .dataframe tbody tr th:only-of-type {\n        vertical-align: middle;\n    }\n\n    .dataframe tbody tr th {\n        vertical-align: top;\n    }\n\n    .dataframe thead th {\n        text-align: right;\n    }\n</style>\n<table border=\"1\" class=\"dataframe\">\n  <thead>\n    <tr style=\"text-align: right;\">\n      <th></th>\n      <th>waist</th>\n      <th>hips</th>\n    </tr>\n  </thead>\n  <tbody>\n    <tr>\n      <th>count</th>\n      <td>10096.000000</td>\n      <td>10096.000000</td>\n    </tr>\n    <tr>\n      <th>mean</th>\n      <td>83.726823</td>\n      <td>106.482765</td>\n    </tr>\n    <tr>\n      <th>std</th>\n      <td>17.261658</td>\n      <td>10.939790</td>\n    </tr>\n    <tr>\n      <th>min</th>\n      <td>60.000000</td>\n      <td>85.000000</td>\n    </tr>\n    <tr>\n      <th>25%</th>\n      <td>69.500000</td>\n      <td>97.750000</td>\n    </tr>\n    <tr>\n      <th>50%</th>\n      <td>77.750000</td>\n      <td>108.250000</td>\n    </tr>\n    <tr>\n      <th>75%</th>\n      <td>100.000000</td>\n      <td>115.000000</td>\n    </tr>\n    <tr>\n      <th>max</th>\n      <td>120.750000</td>\n      <td>126.750000</td>\n    </tr>\n  </tbody>\n</table>\n</div>"
     },
     "execution_count": 598,
     "metadata": {},
     "output_type": "execute_result"
    }
   ],
   "source": [
    "df.describe()"
   ]
  },
  {
   "cell_type": "code",
   "execution_count": 598,
   "outputs": [],
   "source": [],
   "metadata": {
    "collapsed": false,
    "pycharm": {
     "name": "#%%\n"
    }
   }
  },
  {
   "cell_type": "markdown",
   "metadata": {
    "pycharm": {
     "name": "#%% md\n"
    }
   },
   "source": [
    "# Expand data for accuracy"
   ]
  },
  {
   "cell_type": "code",
   "execution_count": 599,
   "metadata": {
    "pycharm": {
     "name": "#%%\n"
    }
   },
   "outputs": [],
   "source": [
    "df[\"hips-squared\"] = df[\"hips\"] * df[\"hips\"]\n"
   ]
  },
  {
   "cell_type": "code",
   "execution_count": 600,
   "metadata": {
    "pycharm": {
     "name": "#%%\n"
    }
   },
   "outputs": [
    {
     "data": {
      "text/plain": "(10096, 4)"
     },
     "execution_count": 600,
     "metadata": {},
     "output_type": "execute_result"
    }
   ],
   "source": [
    "df.shape\n"
   ]
  },
  {
   "cell_type": "code",
   "execution_count": 601,
   "metadata": {
    "pycharm": {
     "name": "#%%\n"
    }
   },
   "outputs": [],
   "source": [
    "from decimal import Decimal\n",
    "\n",
    "\n",
    "def round_decimal(value):\n",
    "    return float(Decimal(value).quantize(Decimal('0.01')))\n"
   ]
  },
  {
   "cell_type": "code",
   "execution_count": 602,
   "metadata": {
    "pycharm": {
     "name": "#%%\n"
    }
   },
   "outputs": [],
   "source": [
    "df['hips-squared'] = df['hips-squared'].apply(round_decimal)\n"
   ]
  },
  {
   "cell_type": "code",
   "execution_count": 603,
   "metadata": {
    "pycharm": {
     "name": "#%%\n"
    }
   },
   "outputs": [
    {
     "data": {
      "text/plain": "   waist   hips size  hips-squared\n0   60.0  85.00  0-6       7225.00\n1   60.0  85.25  0-6       7267.56\n2   60.0  85.50  0-6       7310.25\n3   60.0  85.75  0-6       7353.06\n4   60.0  86.00  0-6       7396.00",
      "text/html": "<div>\n<style scoped>\n    .dataframe tbody tr th:only-of-type {\n        vertical-align: middle;\n    }\n\n    .dataframe tbody tr th {\n        vertical-align: top;\n    }\n\n    .dataframe thead th {\n        text-align: right;\n    }\n</style>\n<table border=\"1\" class=\"dataframe\">\n  <thead>\n    <tr style=\"text-align: right;\">\n      <th></th>\n      <th>waist</th>\n      <th>hips</th>\n      <th>size</th>\n      <th>hips-squared</th>\n    </tr>\n  </thead>\n  <tbody>\n    <tr>\n      <th>0</th>\n      <td>60.0</td>\n      <td>85.00</td>\n      <td>0-6</td>\n      <td>7225.00</td>\n    </tr>\n    <tr>\n      <th>1</th>\n      <td>60.0</td>\n      <td>85.25</td>\n      <td>0-6</td>\n      <td>7267.56</td>\n    </tr>\n    <tr>\n      <th>2</th>\n      <td>60.0</td>\n      <td>85.50</td>\n      <td>0-6</td>\n      <td>7310.25</td>\n    </tr>\n    <tr>\n      <th>3</th>\n      <td>60.0</td>\n      <td>85.75</td>\n      <td>0-6</td>\n      <td>7353.06</td>\n    </tr>\n    <tr>\n      <th>4</th>\n      <td>60.0</td>\n      <td>86.00</td>\n      <td>0-6</td>\n      <td>7396.00</td>\n    </tr>\n  </tbody>\n</table>\n</div>"
     },
     "execution_count": 603,
     "metadata": {},
     "output_type": "execute_result"
    }
   ],
   "source": [
    "df.head()\n"
   ]
  },
  {
   "cell_type": "markdown",
   "metadata": {
    "pycharm": {
     "name": "#%% md\n"
    }
   },
   "source": [
    "# Clean data-set"
   ]
  },
  {
   "cell_type": "code",
   "execution_count": 604,
   "metadata": {
    "pycharm": {
     "name": "#%%\n"
    }
   },
   "outputs": [
    {
     "data": {
      "text/plain": "(10096, 4)"
     },
     "execution_count": 604,
     "metadata": {},
     "output_type": "execute_result"
    }
   ],
   "source": [
    "df.dropna(how='any').shape\n"
   ]
  },
  {
   "cell_type": "code",
   "execution_count": 605,
   "metadata": {
    "pycharm": {
     "name": "#%%\n"
    }
   },
   "outputs": [
    {
     "data": {
      "text/plain": "0"
     },
     "execution_count": 605,
     "metadata": {},
     "output_type": "execute_result"
    }
   ],
   "source": [
    "df.duplicated().sum()\n"
   ]
  },
  {
   "cell_type": "code",
   "execution_count": 606,
   "metadata": {
    "pycharm": {
     "name": "#%%\n"
    }
   },
   "outputs": [
    {
     "data": {
      "text/plain": "(10096, 4)"
     },
     "execution_count": 606,
     "metadata": {},
     "output_type": "execute_result"
    }
   ],
   "source": [
    "df.drop_duplicates(keep='first').shape\n"
   ]
  },
  {
   "cell_type": "code",
   "execution_count": 607,
   "metadata": {
    "pycharm": {
     "name": "#%%\n"
    }
   },
   "outputs": [
    {
     "data": {
      "text/plain": "(10096, 4)"
     },
     "execution_count": 607,
     "metadata": {},
     "output_type": "execute_result"
    }
   ],
   "source": [
    "df.drop_duplicates(keep=False).shape\n"
   ]
  },
  {
   "cell_type": "code",
   "execution_count": 608,
   "metadata": {
    "pycharm": {
     "name": "#%%\n"
    }
   },
   "outputs": [
    {
     "data": {
      "text/plain": "Empty DataFrame\nColumns: [waist, hips, size, hips-squared]\nIndex: []",
      "text/html": "<div>\n<style scoped>\n    .dataframe tbody tr th:only-of-type {\n        vertical-align: middle;\n    }\n\n    .dataframe tbody tr th {\n        vertical-align: top;\n    }\n\n    .dataframe thead th {\n        text-align: right;\n    }\n</style>\n<table border=\"1\" class=\"dataframe\">\n  <thead>\n    <tr style=\"text-align: right;\">\n      <th></th>\n      <th>waist</th>\n      <th>hips</th>\n      <th>size</th>\n      <th>hips-squared</th>\n    </tr>\n  </thead>\n  <tbody>\n  </tbody>\n</table>\n</div>"
     },
     "execution_count": 608,
     "metadata": {},
     "output_type": "execute_result"
    }
   ],
   "source": [
    "df.loc[df.duplicated(keep='last'), :]\n"
   ]
  },
  {
   "cell_type": "code",
   "execution_count": 609,
   "metadata": {
    "pycharm": {
     "name": "#%%\n"
    }
   },
   "outputs": [
    {
     "data": {
      "text/plain": "(10096, 4)"
     },
     "execution_count": 609,
     "metadata": {},
     "output_type": "execute_result"
    }
   ],
   "source": [
    "df.dropna(subset=['waist', 'hips', 'hips-squared', 'size'], how='any').shape"
   ]
  },
  {
   "cell_type": "code",
   "execution_count": 610,
   "metadata": {
    "pycharm": {
     "name": "#%%\n"
    }
   },
   "outputs": [
    {
     "name": "stdout",
     "output_type": "stream",
     "text": [
      "<class 'pandas.core.frame.DataFrame'>\n",
      "Int64Index: 10096 entries, 0 to 10095\n",
      "Data columns (total 4 columns):\n",
      " #   Column        Non-Null Count  Dtype  \n",
      "---  ------        --------------  -----  \n",
      " 0   waist         10096 non-null  float64\n",
      " 1   hips          10096 non-null  float64\n",
      " 2   size          10096 non-null  object \n",
      " 3   hips-squared  10096 non-null  float64\n",
      "dtypes: float64(3), object(1)\n",
      "memory usage: 394.4+ KB\n"
     ]
    }
   ],
   "source": [
    "df.info()\n"
   ]
  },
  {
   "cell_type": "code",
   "execution_count": 611,
   "metadata": {
    "pycharm": {
     "name": "#%%\n"
    }
   },
   "outputs": [
    {
     "data": {
      "text/plain": "Index(['waist', 'hips', 'size', 'hips-squared'], dtype='object')"
     },
     "execution_count": 611,
     "metadata": {},
     "output_type": "execute_result"
    }
   ],
   "source": [
    "df.columns\n"
   ]
  },
  {
   "cell_type": "code",
   "execution_count": 612,
   "metadata": {
    "pycharm": {
     "name": "#%%\n"
    }
   },
   "outputs": [
    {
     "data": {
      "text/plain": "{float64: ['waist', 'hips', 'hips-squared'], object: ['size']}"
     },
     "execution_count": 612,
     "metadata": {},
     "output_type": "execute_result"
    }
   ],
   "source": [
    "df.columns.to_series().groupby(df.dtypes).groups\n"
   ]
  },
  {
   "cell_type": "code",
   "execution_count": 613,
   "metadata": {
    "pycharm": {
     "name": "#%%\n"
    }
   },
   "outputs": [
    {
     "data": {
      "text/plain": "waist           0\nhips            0\nsize            0\nhips-squared    0\ndtype: int64"
     },
     "execution_count": 613,
     "metadata": {},
     "output_type": "execute_result"
    }
   ],
   "source": [
    "df.isnull().sum()\n"
   ]
  },
  {
   "cell_type": "code",
   "execution_count": 614,
   "metadata": {
    "pycharm": {
     "name": "#%%\n"
    }
   },
   "outputs": [
    {
     "data": {
      "text/plain": "waist           244\nhips            168\nsize             16\nhips-squared    168\ndtype: int64"
     },
     "execution_count": 614,
     "metadata": {},
     "output_type": "execute_result"
    }
   ],
   "source": [
    "df.nunique()"
   ]
  },
  {
   "cell_type": "code",
   "execution_count": 615,
   "metadata": {
    "pycharm": {
     "name": "#%%\n"
    }
   },
   "outputs": [
    {
     "data": {
      "text/plain": "   waist  hips  size  hips-squared\n0   True  True  True          True\n1   True  True  True          True\n2   True  True  True          True\n3   True  True  True          True\n4   True  True  True          True",
      "text/html": "<div>\n<style scoped>\n    .dataframe tbody tr th:only-of-type {\n        vertical-align: middle;\n    }\n\n    .dataframe tbody tr th {\n        vertical-align: top;\n    }\n\n    .dataframe thead th {\n        text-align: right;\n    }\n</style>\n<table border=\"1\" class=\"dataframe\">\n  <thead>\n    <tr style=\"text-align: right;\">\n      <th></th>\n      <th>waist</th>\n      <th>hips</th>\n      <th>size</th>\n      <th>hips-squared</th>\n    </tr>\n  </thead>\n  <tbody>\n    <tr>\n      <th>0</th>\n      <td>True</td>\n      <td>True</td>\n      <td>True</td>\n      <td>True</td>\n    </tr>\n    <tr>\n      <th>1</th>\n      <td>True</td>\n      <td>True</td>\n      <td>True</td>\n      <td>True</td>\n    </tr>\n    <tr>\n      <th>2</th>\n      <td>True</td>\n      <td>True</td>\n      <td>True</td>\n      <td>True</td>\n    </tr>\n    <tr>\n      <th>3</th>\n      <td>True</td>\n      <td>True</td>\n      <td>True</td>\n      <td>True</td>\n    </tr>\n    <tr>\n      <th>4</th>\n      <td>True</td>\n      <td>True</td>\n      <td>True</td>\n      <td>True</td>\n    </tr>\n  </tbody>\n</table>\n</div>"
     },
     "execution_count": 615,
     "metadata": {},
     "output_type": "execute_result"
    }
   ],
   "source": [
    "df.notnull().head()\n"
   ]
  },
  {
   "cell_type": "code",
   "execution_count": 616,
   "metadata": {
    "pycharm": {
     "name": "#%%\n"
    }
   },
   "outputs": [
    {
     "data": {
      "text/plain": "waist           float64\nhips            float64\nsize             object\nhips-squared    float64\ndtype: object"
     },
     "execution_count": 616,
     "metadata": {},
     "output_type": "execute_result"
    }
   ],
   "source": [
    "df.apply(lambda x: x.dtype)\n"
   ]
  },
  {
   "cell_type": "code",
   "execution_count": 617,
   "metadata": {
    "pycharm": {
     "name": "#%%\n"
    }
   },
   "outputs": [
    {
     "data": {
      "text/plain": "       Total missing  % missing\nwaist              0        0.0\nhips               0        0.0\nsize               0        0.0",
      "text/html": "<div>\n<style scoped>\n    .dataframe tbody tr th:only-of-type {\n        vertical-align: middle;\n    }\n\n    .dataframe tbody tr th {\n        vertical-align: top;\n    }\n\n    .dataframe thead th {\n        text-align: right;\n    }\n</style>\n<table border=\"1\" class=\"dataframe\">\n  <thead>\n    <tr style=\"text-align: right;\">\n      <th></th>\n      <th>Total missing</th>\n      <th>% missing</th>\n    </tr>\n  </thead>\n  <tbody>\n    <tr>\n      <th>waist</th>\n      <td>0</td>\n      <td>0.0</td>\n    </tr>\n    <tr>\n      <th>hips</th>\n      <td>0</td>\n      <td>0.0</td>\n    </tr>\n    <tr>\n      <th>size</th>\n      <td>0</td>\n      <td>0.0</td>\n    </tr>\n  </tbody>\n</table>\n</div>"
     },
     "execution_count": 617,
     "metadata": {},
     "output_type": "execute_result"
    }
   ],
   "source": [
    "total_miss = df.isnull().sum()\n",
    "perc_miss = total_miss/df.isnull().count()*100\n",
    "\n",
    "missing_data = pd.DataFrame({'Total missing':total_miss,'% missing':perc_miss})\n",
    "\n",
    "missing_data.sort_values(by='Total missing',ascending=False).head(3)"
   ]
  },
  {
   "cell_type": "code",
   "execution_count": 618,
   "metadata": {
    "pycharm": {
     "name": "#%%\n"
    }
   },
   "outputs": [
    {
     "name": "stdout",
     "output_type": "stream",
     "text": [
      "Unique Values for Each Feature:\n",
      "waist : 244\n",
      "hips : 168\n",
      "size : 16\n",
      "hips-squared : 168\n"
     ]
    }
   ],
   "source": [
    "print('Unique Values for Each Feature:')\n",
    "for i in df.columns:\n",
    "    print(i, ':',df[i].nunique()) "
   ]
  },
  {
   "cell_type": "code",
   "execution_count": 619,
   "metadata": {
    "pycharm": {
     "name": "#%%\n"
    }
   },
   "outputs": [
    {
     "name": "stdout",
     "output_type": "stream",
     "text": [
      "size\n",
      "['0-6' '0-8' '2-6' '2-8' '2-10' '2-12' '4-10' '4-12' '4-14' '6-14' '8-14'\n",
      " '10-16' '10-18' '12-16' '12-18' '16-20']\n"
     ]
    }
   ],
   "source": [
    "# find the unique values from categorical features\n",
    "for col in df.select_dtypes(include='object').columns:\n",
    "    print(col)\n",
    "    print(df[col].unique())\n"
   ]
  },
  {
   "cell_type": "code",
   "execution_count": 620,
   "metadata": {
    "pycharm": {
     "name": "#%%\n"
    }
   },
   "outputs": [
    {
     "name": "stdout",
     "output_type": "stream",
     "text": [
      "Numeric Features:\n",
      "   waist   hips  hips-squared\n",
      "0   60.0  85.00       7225.00\n",
      "1   60.0  85.25       7267.56\n",
      "2   60.0  85.50       7310.25\n",
      "3   60.0  85.75       7353.06\n",
      "4   60.0  86.00       7396.00\n"
     ]
    }
   ],
   "source": [
    "# select_dtypes selects data with numeric features\n",
    "numerical_data = df.select_dtypes(include=np.number)\n",
    "numerical_col = numerical_data.columns\n",
    "\n",
    "print(\"Numeric Features:\")\n",
    "print(numerical_data.head())\n"
   ]
  },
  {
   "cell_type": "code",
   "execution_count": 621,
   "metadata": {
    "pycharm": {
     "name": "#%%\n"
    }
   },
   "outputs": [
    {
     "name": "stdout",
     "output_type": "stream",
     "text": [
      "Categorical Features:\n",
      "  size\n",
      "0  0-6\n",
      "1  0-6\n",
      "2  0-6\n",
      "3  0-6\n",
      "4  0-6\n"
     ]
    }
   ],
   "source": [
    "# we will exclude data with numeric features\n",
    "categorical_data = df.select_dtypes(exclude=np.number)\n",
    "# we will store the categorical features in a variable\n",
    "categorical_col = categorical_data.columns\n",
    "\n",
    "print(\"Categorical Features:\")\n",
    "print(categorical_data.head())\n"
   ]
  },
  {
   "cell_type": "code",
   "execution_count": 622,
   "metadata": {
    "pycharm": {
     "name": "#%%\n"
    }
   },
   "outputs": [
    {
     "data": {
      "text/plain": "['waist', 'hips', 'hips-squared']"
     },
     "execution_count": 622,
     "metadata": {},
     "output_type": "execute_result"
    }
   ],
   "source": [
    "### numerical\n",
    "numerical_cols = list(df.select_dtypes(exclude=['object']))\n",
    "numerical_cols\n"
   ]
  },
  {
   "cell_type": "code",
   "execution_count": 623,
   "metadata": {
    "pycharm": {
     "name": "#%%\n"
    }
   },
   "outputs": [
    {
     "data": {
      "text/plain": "['size']"
     },
     "execution_count": 623,
     "metadata": {},
     "output_type": "execute_result"
    }
   ],
   "source": [
    "### categorical\n",
    "categorical_cols = list(df.select_dtypes(include=['object']))\n",
    "categorical_cols\n"
   ]
  },
  {
   "cell_type": "code",
   "execution_count": 624,
   "metadata": {
    "pycharm": {
     "name": "#%%\n"
    }
   },
   "outputs": [
    {
     "data": {
      "text/plain": "         size\ncount   10096\nunique     16\ntop      4-10\nfreq     1152",
      "text/html": "<div>\n<style scoped>\n    .dataframe tbody tr th:only-of-type {\n        vertical-align: middle;\n    }\n\n    .dataframe tbody tr th {\n        vertical-align: top;\n    }\n\n    .dataframe thead th {\n        text-align: right;\n    }\n</style>\n<table border=\"1\" class=\"dataframe\">\n  <thead>\n    <tr style=\"text-align: right;\">\n      <th></th>\n      <th>size</th>\n    </tr>\n  </thead>\n  <tbody>\n    <tr>\n      <th>count</th>\n      <td>10096</td>\n    </tr>\n    <tr>\n      <th>unique</th>\n      <td>16</td>\n    </tr>\n    <tr>\n      <th>top</th>\n      <td>4-10</td>\n    </tr>\n    <tr>\n      <th>freq</th>\n      <td>1152</td>\n    </tr>\n  </tbody>\n</table>\n</div>"
     },
     "execution_count": 624,
     "metadata": {},
     "output_type": "execute_result"
    }
   ],
   "source": [
    "df.describe(include=object)\n"
   ]
  },
  {
   "cell_type": "code",
   "execution_count": 625,
   "metadata": {
    "pycharm": {
     "name": "#%%\n"
    }
   },
   "outputs": [
    {
     "data": {
      "text/plain": "array(['0-6', '0-8', '2-6', '2-8', '2-10', '2-12', '4-10', '4-12', '4-14',\n       '6-14', '8-14', '10-16', '10-18', '12-16', '12-18', '16-20'],\n      dtype=object)"
     },
     "execution_count": 625,
     "metadata": {},
     "output_type": "execute_result"
    }
   ],
   "source": [
    "size_series = df['size']\n",
    "size_levels = size_series.unique()\n",
    "size_levels\n"
   ]
  },
  {
   "cell_type": "code",
   "execution_count": 626,
   "metadata": {
    "pycharm": {
     "name": "#%%\n"
    }
   },
   "outputs": [
    {
     "data": {
      "text/plain": "col_0  freq\nsize       \n0-6     576\n0-8     576\n10-16   576\n10-18   720\n12-16   512\n12-18   640\n16-20   384\n2-10    768\n2-12    384\n2-6     576\n2-8     576\n4-10   1152\n4-12    576\n4-14    720\n6-14    560\n8-14    800",
      "text/html": "<div>\n<style scoped>\n    .dataframe tbody tr th:only-of-type {\n        vertical-align: middle;\n    }\n\n    .dataframe tbody tr th {\n        vertical-align: top;\n    }\n\n    .dataframe thead th {\n        text-align: right;\n    }\n</style>\n<table border=\"1\" class=\"dataframe\">\n  <thead>\n    <tr style=\"text-align: right;\">\n      <th>col_0</th>\n      <th>freq</th>\n    </tr>\n    <tr>\n      <th>size</th>\n      <th></th>\n    </tr>\n  </thead>\n  <tbody>\n    <tr>\n      <th>0-6</th>\n      <td>576</td>\n    </tr>\n    <tr>\n      <th>0-8</th>\n      <td>576</td>\n    </tr>\n    <tr>\n      <th>10-16</th>\n      <td>576</td>\n    </tr>\n    <tr>\n      <th>10-18</th>\n      <td>720</td>\n    </tr>\n    <tr>\n      <th>12-16</th>\n      <td>512</td>\n    </tr>\n    <tr>\n      <th>12-18</th>\n      <td>640</td>\n    </tr>\n    <tr>\n      <th>16-20</th>\n      <td>384</td>\n    </tr>\n    <tr>\n      <th>2-10</th>\n      <td>768</td>\n    </tr>\n    <tr>\n      <th>2-12</th>\n      <td>384</td>\n    </tr>\n    <tr>\n      <th>2-6</th>\n      <td>576</td>\n    </tr>\n    <tr>\n      <th>2-8</th>\n      <td>576</td>\n    </tr>\n    <tr>\n      <th>4-10</th>\n      <td>1152</td>\n    </tr>\n    <tr>\n      <th>4-12</th>\n      <td>576</td>\n    </tr>\n    <tr>\n      <th>4-14</th>\n      <td>720</td>\n    </tr>\n    <tr>\n      <th>6-14</th>\n      <td>560</td>\n    </tr>\n    <tr>\n      <th>8-14</th>\n      <td>800</td>\n    </tr>\n  </tbody>\n</table>\n</div>"
     },
     "execution_count": 626,
     "metadata": {},
     "output_type": "execute_result"
    }
   ],
   "source": [
    "size_freq_table = pd.crosstab(index=df['size'], columns='freq')\n",
    "size_freq_table\n"
   ]
  },
  {
   "cell_type": "code",
   "execution_count": 627,
   "metadata": {
    "pycharm": {
     "name": "#%%\n"
    }
   },
   "outputs": [
    {
     "data": {
      "text/plain": "              waist          hips  hips-squared\ncount  10096.000000  10096.000000  10096.000000\nmean      83.726823    106.482765  11458.245234\nstd       17.261658     10.939790   2304.420040\nmin       60.000000     85.000000   7225.000000\n25%       69.500000     97.750000   9555.060000\n50%       77.750000    108.250000  11718.060000\n75%      100.000000    115.000000  13225.000000\nmax      120.750000    126.750000  16065.560000",
      "text/html": "<div>\n<style scoped>\n    .dataframe tbody tr th:only-of-type {\n        vertical-align: middle;\n    }\n\n    .dataframe tbody tr th {\n        vertical-align: top;\n    }\n\n    .dataframe thead th {\n        text-align: right;\n    }\n</style>\n<table border=\"1\" class=\"dataframe\">\n  <thead>\n    <tr style=\"text-align: right;\">\n      <th></th>\n      <th>waist</th>\n      <th>hips</th>\n      <th>hips-squared</th>\n    </tr>\n  </thead>\n  <tbody>\n    <tr>\n      <th>count</th>\n      <td>10096.000000</td>\n      <td>10096.000000</td>\n      <td>10096.000000</td>\n    </tr>\n    <tr>\n      <th>mean</th>\n      <td>83.726823</td>\n      <td>106.482765</td>\n      <td>11458.245234</td>\n    </tr>\n    <tr>\n      <th>std</th>\n      <td>17.261658</td>\n      <td>10.939790</td>\n      <td>2304.420040</td>\n    </tr>\n    <tr>\n      <th>min</th>\n      <td>60.000000</td>\n      <td>85.000000</td>\n      <td>7225.000000</td>\n    </tr>\n    <tr>\n      <th>25%</th>\n      <td>69.500000</td>\n      <td>97.750000</td>\n      <td>9555.060000</td>\n    </tr>\n    <tr>\n      <th>50%</th>\n      <td>77.750000</td>\n      <td>108.250000</td>\n      <td>11718.060000</td>\n    </tr>\n    <tr>\n      <th>75%</th>\n      <td>100.000000</td>\n      <td>115.000000</td>\n      <td>13225.000000</td>\n    </tr>\n    <tr>\n      <th>max</th>\n      <td>120.750000</td>\n      <td>126.750000</td>\n      <td>16065.560000</td>\n    </tr>\n  </tbody>\n</table>\n</div>"
     },
     "execution_count": 627,
     "metadata": {},
     "output_type": "execute_result"
    }
   ],
   "source": [
    "df.describe()\n"
   ]
  },
  {
   "cell_type": "code",
   "execution_count": 628,
   "metadata": {
    "pycharm": {
     "name": "#%%\n"
    }
   },
   "outputs": [
    {
     "data": {
      "text/plain": "                 waist      hips  hips-squared\nwaist         1.000000  0.871682      0.884947\nhips          0.871682  1.000000      0.998703\nhips-squared  0.884947  0.998703      1.000000",
      "text/html": "<div>\n<style scoped>\n    .dataframe tbody tr th:only-of-type {\n        vertical-align: middle;\n    }\n\n    .dataframe tbody tr th {\n        vertical-align: top;\n    }\n\n    .dataframe thead th {\n        text-align: right;\n    }\n</style>\n<table border=\"1\" class=\"dataframe\">\n  <thead>\n    <tr style=\"text-align: right;\">\n      <th></th>\n      <th>waist</th>\n      <th>hips</th>\n      <th>hips-squared</th>\n    </tr>\n  </thead>\n  <tbody>\n    <tr>\n      <th>waist</th>\n      <td>1.000000</td>\n      <td>0.871682</td>\n      <td>0.884947</td>\n    </tr>\n    <tr>\n      <th>hips</th>\n      <td>0.871682</td>\n      <td>1.000000</td>\n      <td>0.998703</td>\n    </tr>\n    <tr>\n      <th>hips-squared</th>\n      <td>0.884947</td>\n      <td>0.998703</td>\n      <td>1.000000</td>\n    </tr>\n  </tbody>\n</table>\n</div>"
     },
     "execution_count": 628,
     "metadata": {},
     "output_type": "execute_result"
    }
   ],
   "source": [
    "df.corr()\n"
   ]
  },
  {
   "cell_type": "code",
   "execution_count": 629,
   "metadata": {
    "pycharm": {
     "name": "#%%\n"
    }
   },
   "outputs": [
    {
     "name": "stdout",
     "output_type": "stream",
     "text": [
      "Number of numerical variables:  3\n"
     ]
    }
   ],
   "source": [
    "# list of numerical variables\n",
    "numerical_features = [feature for feature in df.columns if (\n",
    "    (df[feature].dtypes != 'O') & (feature not in ['y']))]\n",
    "print('Number of numerical variables: ', len(numerical_features))\n"
   ]
  },
  {
   "cell_type": "code",
   "execution_count": 630,
   "metadata": {
    "pycharm": {
     "name": "#%%\n"
    }
   },
   "outputs": [
    {
     "name": "stdout",
     "output_type": "stream",
     "text": [
      "Discrete Variables Count: 0\n"
     ]
    }
   ],
   "source": [
    "#Discrete Numerical Features\n",
    "discrete_feature = [feature for feature in numerical_features if len(\n",
    "    df[feature].unique()) < 25]\n",
    "print(\"Discrete Variables Count: {}\".format(len(discrete_feature)))\n"
   ]
  },
  {
   "cell_type": "code",
   "execution_count": 631,
   "metadata": {
    "pycharm": {
     "name": "#%%\n"
    }
   },
   "outputs": [
    {
     "name": "stdout",
     "output_type": "stream",
     "text": [
      "Continuous feature Count: 3\n"
     ]
    }
   ],
   "source": [
    "#Continuous Numerical Features\n",
    "continuous_features = [\n",
    "    feature for feature in numerical_features if feature not in discrete_feature+['deposit']]\n",
    "print(\"Continuous feature Count: {}\".format(len(continuous_features)))\n"
   ]
  },
  {
   "cell_type": "markdown",
   "metadata": {
    "pycharm": {
     "name": "#%% md\n"
    }
   },
   "source": [
    "# Graph analysis"
   ]
  },
  {
   "cell_type": "code",
   "execution_count": 632,
   "metadata": {
    "pycharm": {
     "name": "#%%\n"
    }
   },
   "outputs": [],
   "source": [
    "import matplotlib.pyplot as plt\n"
   ]
  },
  {
   "cell_type": "code",
   "execution_count": 633,
   "metadata": {
    "pycharm": {
     "name": "#%%\n"
    }
   },
   "outputs": [
    {
     "data": {
      "text/plain": "<Figure size 1440x1440 with 4 Axes>",
      "image/png": "[encoded data removed]"
     },
     "metadata": {
      "needs_background": "light"
     },
     "output_type": "display_data"
    }
   ],
   "source": [
    "df.hist(figsize=(20, 20))\n",
    "plt.show()\n"
   ]
  },
  {
   "cell_type": "code",
   "execution_count": 634,
   "metadata": {
    "pycharm": {
     "name": "#%%\n"
    }
   },
   "outputs": [],
   "source": [
    "import seaborn as sns\n"
   ]
  },
  {
   "cell_type": "code",
   "execution_count": 635,
   "metadata": {
    "pycharm": {
     "name": "#%%\n"
    }
   },
   "outputs": [
    {
     "data": {
      "text/plain": "<AxesSubplot:>"
     },
     "execution_count": 635,
     "metadata": {},
     "output_type": "execute_result"
    },
    {
     "data": {
      "text/plain": "<Figure size 1800x864 with 2 Axes>",
      "image/png": "[encoded data removed]"
     },
     "metadata": {
      "needs_background": "light"
     },
     "output_type": "display_data"
    }
   ],
   "source": [
    "matrix = df.corr()\n",
    "f, ax = plt.subplots(figsize=(25, 12))\n",
    "sns.heatmap(matrix, square=True, annot=True)\n"
   ]
  },
  {
   "cell_type": "code",
   "execution_count": 636,
   "metadata": {
    "pycharm": {
     "name": "#%%\n"
    }
   },
   "outputs": [
    {
     "data": {
      "text/plain": "<Figure size 432x288 with 2 Axes>",
      "image/png": "[encoded data removed]"
     },
     "metadata": {
      "needs_background": "light"
     },
     "output_type": "display_data"
    }
   ],
   "source": [
    "corr = sns.heatmap(df.corr(), annot=True)\n"
   ]
  },
  {
   "cell_type": "code",
   "execution_count": 637,
   "metadata": {
    "pycharm": {
     "name": "#%%\n"
    }
   },
   "outputs": [
    {
     "data": {
      "text/plain": "<Figure size 1080x1080 with 12 Axes>",
      "image/png": "[encoded data removed]"
     },
     "metadata": {
      "needs_background": "light"
     },
     "output_type": "display_data"
    }
   ],
   "source": [
    "sns.pairplot(data=df, height=5)\n",
    "plt.show()\n"
   ]
  },
  {
   "cell_type": "code",
   "execution_count": 638,
   "metadata": {
    "pycharm": {
     "name": "#%%\n"
    }
   },
   "outputs": [],
   "source": [
    "def bar_plot(variable):\n",
    "    var = df[variable]\n",
    "    var_value = var.value_counts()\n",
    "    plt.figure(figsize=(15,3))\n",
    "    plt.bar(var_value.index, var_value,color=['#00008b','#00e5ee','#cd1076', '#008080','#cd5555','red','blue'])\n",
    "    plt.xticks(var_value.index, var_value.index.values)\n",
    "    plt.ylabel(\"Frequency\")\n",
    "    plt.title(variable)\n",
    "    \n",
    "    plt.show()\n",
    "    print(\"{}: \\n {}\".format(variable,var_value))"
   ]
  },
  {
   "cell_type": "code",
   "execution_count": 639,
   "metadata": {
    "pycharm": {
     "name": "#%%\n"
    }
   },
   "outputs": [
    {
     "data": {
      "text/plain": "<Figure size 1080x216 with 1 Axes>",
      "image/png": "[encoded data removed]"
     },
     "metadata": {
      "needs_background": "light"
     },
     "output_type": "display_data"
    },
    {
     "name": "stdout",
     "output_type": "stream",
     "text": [
      "size: \n",
      " 4-10     1152\n",
      "8-14      800\n",
      "2-10      768\n",
      "4-14      720\n",
      "10-18     720\n",
      "12-18     640\n",
      "0-6       576\n",
      "0-8       576\n",
      "2-6       576\n",
      "2-8       576\n",
      "4-12      576\n",
      "10-16     576\n",
      "6-14      560\n",
      "12-16     512\n",
      "2-12      384\n",
      "16-20     384\n",
      "Name: size, dtype: int64\n"
     ]
    }
   ],
   "source": [
    "categorical_cols = ['size']\n",
    "for c in categorical_cols:\n",
    "    bar_plot(c)\n"
   ]
  },
  {
   "cell_type": "code",
   "execution_count": 640,
   "metadata": {
    "pycharm": {
     "name": "#%%\n"
    }
   },
   "outputs": [
    {
     "data": {
      "text/plain": "4-10     1152\n8-14      800\n2-10      768\n4-14      720\n10-18     720\n12-18     640\n0-6       576\n0-8       576\n2-6       576\n2-8       576\n4-12      576\n10-16     576\n6-14      560\n12-16     512\n2-12      384\n16-20     384\nName: size, dtype: int64"
     },
     "execution_count": 640,
     "metadata": {},
     "output_type": "execute_result"
    }
   ],
   "source": [
    "df['size'].value_counts()\n"
   ]
  },
  {
   "cell_type": "code",
   "execution_count": 641,
   "metadata": {
    "pycharm": {
     "name": "#%%\n"
    }
   },
   "outputs": [
    {
     "data": {
      "text/plain": "<AxesSubplot:xlabel='count', ylabel='size'>"
     },
     "execution_count": 641,
     "metadata": {},
     "output_type": "execute_result"
    },
    {
     "data": {
      "text/plain": "<Figure size 720x720 with 1 Axes>",
      "image/png": "[encoded data removed]"
     },
     "metadata": {
      "needs_background": "light"
     },
     "output_type": "display_data"
    }
   ],
   "source": [
    "plt.figure(figsize=(10, 10))\n",
    "sns.countplot(y=df['size'])\n"
   ]
  },
  {
   "cell_type": "code",
   "execution_count": 642,
   "metadata": {
    "pycharm": {
     "name": "#%%\n"
    }
   },
   "outputs": [],
   "source": [
    "import squarify\n"
   ]
  },
  {
   "cell_type": "code",
   "execution_count": 643,
   "metadata": {
    "pycharm": {
     "name": "#%%\n"
    }
   },
   "outputs": [
    {
     "data": {
      "text/plain": "<Figure size 700x500 with 1 Axes>",
      "image/png": "[encoded data removed]"
     },
     "metadata": {},
     "output_type": "display_data"
    }
   ],
   "source": [
    "size = df['size'].value_counts()\n",
    "\n",
    "plt.style.use('default')\n",
    "plt.figure(figsize=(7, 5))\n",
    "squarify.plot(sizes=size.values, label=size.index, value=size.values)\n",
    "plt.title('Size Distribution', fontdict={\n",
    "          'fontname': 'Monospace', 'fontsize': 20, 'fontweight': 'bold'})\n",
    "plt.show()\n"
   ]
  },
  {
   "cell_type": "markdown",
   "metadata": {
    "pycharm": {
     "name": "#%% md\n"
    }
   },
   "source": [
    "# Evaluate data models "
   ]
  },
  {
   "cell_type": "code",
   "execution_count": 644,
   "metadata": {
    "pycharm": {
     "name": "#%%\n"
    }
   },
   "outputs": [
    {
     "data": {
      "text/plain": "   waist   hips  size  hips-squared\n0   60.0  85.00     1       7225.00\n1   60.0  85.25     1       7267.56\n2   60.0  85.50     1       7310.25\n3   60.0  85.75     1       7353.06\n4   60.0  86.00     1       7396.00",
      "text/html": "<div>\n<style scoped>\n    .dataframe tbody tr th:only-of-type {\n        vertical-align: middle;\n    }\n\n    .dataframe tbody tr th {\n        vertical-align: top;\n    }\n\n    .dataframe thead th {\n        text-align: right;\n    }\n</style>\n<table border=\"1\" class=\"dataframe\">\n  <thead>\n    <tr style=\"text-align: right;\">\n      <th></th>\n      <th>waist</th>\n      <th>hips</th>\n      <th>size</th>\n      <th>hips-squared</th>\n    </tr>\n  </thead>\n  <tbody>\n    <tr>\n      <th>0</th>\n      <td>60.0</td>\n      <td>85.00</td>\n      <td>1</td>\n      <td>7225.00</td>\n    </tr>\n    <tr>\n      <th>1</th>\n      <td>60.0</td>\n      <td>85.25</td>\n      <td>1</td>\n      <td>7267.56</td>\n    </tr>\n    <tr>\n      <th>2</th>\n      <td>60.0</td>\n      <td>85.50</td>\n      <td>1</td>\n      <td>7310.25</td>\n    </tr>\n    <tr>\n      <th>3</th>\n      <td>60.0</td>\n      <td>85.75</td>\n      <td>1</td>\n      <td>7353.06</td>\n    </tr>\n    <tr>\n      <th>4</th>\n      <td>60.0</td>\n      <td>86.00</td>\n      <td>1</td>\n      <td>7396.00</td>\n    </tr>\n  </tbody>\n</table>\n</div>"
     },
     "execution_count": 644,
     "metadata": {},
     "output_type": "execute_result"
    }
   ],
   "source": [
    "df['size'] = df['size'].map({\n",
    "    '0-6': 1,\n",
    "    '0-8': 2,\n",
    "    '2-6': 3,\n",
    "    '2-8': 4,\n",
    "    '2-10': 5,\n",
    "    '2-12': 6,\n",
    "    '4-10': 7,\n",
    "    '4-12': 8,\n",
    "    '4-14': 9,\n",
    "    '6-14': 10,\n",
    "    '8-14': 11,\n",
    "    '10-16': 12,\n",
    "    '10-18': 13,\n",
    "    '12-16': 14,\n",
    "    '12-18': 15,\n",
    "    '16-20': 16,\n",
    "})\n",
    "df.head()\n"
   ]
  },
  {
   "cell_type": "code",
   "execution_count": 645,
   "outputs": [
    {
     "data": {
      "text/plain": "   waist   hips  size  hips-squared\n0   60.0  85.00     1       7225.00\n1   60.0  85.25     1       7267.56\n2   60.0  85.50     1       7310.25\n3   60.0  85.75     1       7353.06\n4   60.0  86.00     1       7396.00",
      "text/html": "<div>\n<style scoped>\n    .dataframe tbody tr th:only-of-type {\n        vertical-align: middle;\n    }\n\n    .dataframe tbody tr th {\n        vertical-align: top;\n    }\n\n    .dataframe thead th {\n        text-align: right;\n    }\n</style>\n<table border=\"1\" class=\"dataframe\">\n  <thead>\n    <tr style=\"text-align: right;\">\n      <th></th>\n      <th>waist</th>\n      <th>hips</th>\n      <th>size</th>\n      <th>hips-squared</th>\n    </tr>\n  </thead>\n  <tbody>\n    <tr>\n      <th>0</th>\n      <td>60.0</td>\n      <td>85.00</td>\n      <td>1</td>\n      <td>7225.00</td>\n    </tr>\n    <tr>\n      <th>1</th>\n      <td>60.0</td>\n      <td>85.25</td>\n      <td>1</td>\n      <td>7267.56</td>\n    </tr>\n    <tr>\n      <th>2</th>\n      <td>60.0</td>\n      <td>85.50</td>\n      <td>1</td>\n      <td>7310.25</td>\n    </tr>\n    <tr>\n      <th>3</th>\n      <td>60.0</td>\n      <td>85.75</td>\n      <td>1</td>\n      <td>7353.06</td>\n    </tr>\n    <tr>\n      <th>4</th>\n      <td>60.0</td>\n      <td>86.00</td>\n      <td>1</td>\n      <td>7396.00</td>\n    </tr>\n  </tbody>\n</table>\n</div>"
     },
     "execution_count": 645,
     "metadata": {},
     "output_type": "execute_result"
    }
   ],
   "source": [
    "def int_from_decimal(value):\n",
    "    return int(value)\n",
    "\n",
    "df['size'] = df['size'].apply(int_from_decimal)\n",
    "df.head()"
   ],
   "metadata": {
    "collapsed": false,
    "pycharm": {
     "name": "#%%\n"
    }
   }
  },
  {
   "cell_type": "code",
   "execution_count": 646,
   "metadata": {
    "pycharm": {
     "name": "#%%\n"
    }
   },
   "outputs": [
    {
     "data": {
      "text/plain": "   waist   hips  size  hips-squared\n0   60.0  85.00     1       7225.00\n1   60.0  85.25     1       7267.56\n2   60.0  85.50     1       7310.25\n3   60.0  85.75     1       7353.06\n4   60.0  86.00     1       7396.00",
      "text/html": "<div>\n<style scoped>\n    .dataframe tbody tr th:only-of-type {\n        vertical-align: middle;\n    }\n\n    .dataframe tbody tr th {\n        vertical-align: top;\n    }\n\n    .dataframe thead th {\n        text-align: right;\n    }\n</style>\n<table border=\"1\" class=\"dataframe\">\n  <thead>\n    <tr style=\"text-align: right;\">\n      <th></th>\n      <th>waist</th>\n      <th>hips</th>\n      <th>size</th>\n      <th>hips-squared</th>\n    </tr>\n  </thead>\n  <tbody>\n    <tr>\n      <th>0</th>\n      <td>60.0</td>\n      <td>85.00</td>\n      <td>1</td>\n      <td>7225.00</td>\n    </tr>\n    <tr>\n      <th>1</th>\n      <td>60.0</td>\n      <td>85.25</td>\n      <td>1</td>\n      <td>7267.56</td>\n    </tr>\n    <tr>\n      <th>2</th>\n      <td>60.0</td>\n      <td>85.50</td>\n      <td>1</td>\n      <td>7310.25</td>\n    </tr>\n    <tr>\n      <th>3</th>\n      <td>60.0</td>\n      <td>85.75</td>\n      <td>1</td>\n      <td>7353.06</td>\n    </tr>\n    <tr>\n      <th>4</th>\n      <td>60.0</td>\n      <td>86.00</td>\n      <td>1</td>\n      <td>7396.00</td>\n    </tr>\n  </tbody>\n</table>\n</div>"
     },
     "execution_count": 646,
     "metadata": {},
     "output_type": "execute_result"
    }
   ],
   "source": [
    "df = df.dropna()\n",
    "df.head()\n"
   ]
  },
  {
   "cell_type": "code",
   "execution_count": 647,
   "metadata": {
    "pycharm": {
     "name": "#%%\n"
    }
   },
   "outputs": [
    {
     "data": {
      "text/plain": "waist           0\nhips            0\nsize            0\nhips-squared    0\ndtype: int64"
     },
     "execution_count": 647,
     "metadata": {},
     "output_type": "execute_result"
    }
   ],
   "source": [
    "df.dropna(inplace=True)\n",
    "df.isnull().sum()\n"
   ]
  },
  {
   "cell_type": "code",
   "execution_count": 648,
   "metadata": {
    "pycharm": {
     "name": "#%%\n"
    }
   },
   "outputs": [],
   "source": [
    "from sklearn.linear_model import LinearRegression\n",
    "\n",
    "# linear comparison\n",
    "X_linear = df.iloc[:, 0].values.reshape(-1, 1)\n",
    "y_linear = df.iloc[:, 1].values.reshape(-1, 1)\n",
    "linear_regressor = LinearRegression()\n",
    "linear_regressor.fit(X_linear, y_linear)\n",
    "Y_pred_linear = linear_regressor.predict(X_linear)\n"
   ]
  },
  {
   "cell_type": "code",
   "execution_count": 649,
   "metadata": {
    "pycharm": {
     "name": "#%%\n"
    }
   },
   "outputs": [
    {
     "data": {
      "text/plain": "<Figure size 640x480 with 1 Axes>",
      "image/png": "[encoded data removed]"
     },
     "metadata": {},
     "output_type": "display_data"
    }
   ],
   "source": [
    "plt.scatter(X_linear, y_linear)\n",
    "plt.plot(X_linear, Y_pred_linear, color='red')\n",
    "plt.show()\n"
   ]
  },
  {
   "cell_type": "code",
   "execution_count": 650,
   "metadata": {
    "pycharm": {
     "name": "#%%\n"
    }
   },
   "outputs": [],
   "source": [
    "# Features\n",
    "X = df.drop(\"size\", axis=1)\n",
    "\n",
    "# Target\n",
    "y = df[\"size\"]\n"
   ]
  },
  {
   "cell_type": "code",
   "execution_count": 651,
   "metadata": {
    "pycharm": {
     "name": "#%%\n"
    }
   },
   "outputs": [],
   "source": [
    "from sklearn.metrics import confusion_matrix, classification_report\n",
    "from sklearn.model_selection import train_test_split\n",
    "from sklearn.linear_model import LinearRegression, LogisticRegression\n",
    "from sklearn.ensemble import RandomForestClassifier\n",
    "from sklearn.tree import DecisionTreeClassifier\n",
    "from sklearn.neighbors import KNeighborsClassifier\n"
   ]
  },
  {
   "cell_type": "code",
   "execution_count": 652,
   "metadata": {
    "pycharm": {
     "name": "#%%\n"
    }
   },
   "outputs": [],
   "source": [
    "# Splitting data into training set and validation set\n",
    "\n",
    "X_train, X_test, y_train, y_test, = train_test_split(X, y, test_size=0.10)\n"
   ]
  },
  {
   "cell_type": "code",
   "execution_count": 653,
   "metadata": {
    "pycharm": {
     "name": "#%%\n"
    }
   },
   "outputs": [
    {
     "data": {
      "text/plain": "      waist    hips  hips-squared\n3686  73.75   98.50       9702.25\n6163  84.00  113.75      12939.06\n3612  73.00  104.00      10816.00\n5191  72.00  110.75      12265.56\n5965  81.75  109.25      11935.56",
      "text/html": "<div>\n<style scoped>\n    .dataframe tbody tr th:only-of-type {\n        vertical-align: middle;\n    }\n\n    .dataframe tbody tr th {\n        vertical-align: top;\n    }\n\n    .dataframe thead th {\n        text-align: right;\n    }\n</style>\n<table border=\"1\" class=\"dataframe\">\n  <thead>\n    <tr style=\"text-align: right;\">\n      <th></th>\n      <th>waist</th>\n      <th>hips</th>\n      <th>hips-squared</th>\n    </tr>\n  </thead>\n  <tbody>\n    <tr>\n      <th>3686</th>\n      <td>73.75</td>\n      <td>98.50</td>\n      <td>9702.25</td>\n    </tr>\n    <tr>\n      <th>6163</th>\n      <td>84.00</td>\n      <td>113.75</td>\n      <td>12939.06</td>\n    </tr>\n    <tr>\n      <th>3612</th>\n      <td>73.00</td>\n      <td>104.00</td>\n      <td>10816.00</td>\n    </tr>\n    <tr>\n      <th>5191</th>\n      <td>72.00</td>\n      <td>110.75</td>\n      <td>12265.56</td>\n    </tr>\n    <tr>\n      <th>5965</th>\n      <td>81.75</td>\n      <td>109.25</td>\n      <td>11935.56</td>\n    </tr>\n  </tbody>\n</table>\n</div>"
     },
     "execution_count": 653,
     "metadata": {},
     "output_type": "execute_result"
    }
   ],
   "source": [
    "X_train.head()\n"
   ]
  },
  {
   "cell_type": "code",
   "execution_count": 654,
   "metadata": {
    "pycharm": {
     "name": "#%%\n"
    }
   },
   "outputs": [
    {
     "data": {
      "text/plain": "(9086, 1010)"
     },
     "execution_count": 654,
     "metadata": {},
     "output_type": "execute_result"
    }
   ],
   "source": [
    "len(X_train), len(X_test)\n"
   ]
  },
  {
   "cell_type": "code",
   "execution_count": 655,
   "metadata": {
    "pycharm": {
     "name": "#%%\n"
    }
   },
   "outputs": [],
   "source": [
    "# Put models in a dictionary\n",
    "models_list = {\n",
    "    \"Logistic Regression\": LogisticRegression(),\n",
    "    \"KNN\": KNeighborsClassifier(),\n",
    "    \"Random Forest\": RandomForestClassifier(),\n",
    "    \"Decision Tree\": DecisionTreeClassifier(),\n",
    "}\n",
    "\n",
    "# Create a function to fit and score models\n",
    "\n",
    "\n",
    "def fit_and_score(models, X_train, X_test, y_train, y_test):\n",
    "    \"\"\"\n",
    "   Fits and evaluates given machine learning models.\n",
    "   models: a dict of different Scikit_Learn machine learning models\n",
    "   X_train: training data (no labels)\n",
    "   X_test: testing data (no labels)\n",
    "   y_train: training labels\n",
    "   y_test: test labels\n",
    "   \"\"\"\n",
    "    # Set random seed\n",
    "    np.random.seed(18)\n",
    "    # Make a dictionary to keep model scores\n",
    "    model_scores = {}\n",
    "    # Loop through models\n",
    "    for name, model in models.items():\n",
    "        # Fit model to data\n",
    "        model.fit(X_train, y_train)\n",
    "        # Evaluate model and append its score to model_scores\n",
    "        model_scores[name] = model.score(X_test, y_test)\n",
    "\n",
    "    return model_scores\n"
   ]
  },
  {
   "cell_type": "code",
   "execution_count": 656,
   "metadata": {
    "pycharm": {
     "name": "#%%\n"
    }
   },
   "outputs": [
    {
     "data": {
      "text/plain": "{'Logistic Regression': 0.7504950495049505,\n 'KNN': 0.9801980198019802,\n 'Random Forest': 1.0,\n 'Decision Tree': 1.0}"
     },
     "execution_count": 656,
     "metadata": {},
     "output_type": "execute_result"
    }
   ],
   "source": [
    "model_scores_data = fit_and_score(models_list, X_train, X_test, y_train, y_test)\n",
    "\n",
    "model_scores_data\n"
   ]
  },
  {
   "cell_type": "code",
   "execution_count": 657,
   "metadata": {
    "pycharm": {
     "name": "#%%\n"
    }
   },
   "outputs": [
    {
     "data": {
      "text/plain": "<AxesSubplot:>"
     },
     "execution_count": 657,
     "metadata": {},
     "output_type": "execute_result"
    },
    {
     "data": {
      "text/plain": "<Figure size 640x480 with 1 Axes>",
      "image/png": "[encoded data removed]"
     },
     "metadata": {},
     "output_type": "display_data"
    }
   ],
   "source": [
    "model_compare = pd.DataFrame(model_scores_data, index=[\"accuracy\"])\n",
    "model_compare.T.plot.bar()\n"
   ]
  },
  {
   "cell_type": "markdown",
   "metadata": {
    "pycharm": {
     "name": "#%% md\n"
    }
   },
   "source": [
    "# Save data cleaned"
   ]
  },
  {
   "cell_type": "code",
   "execution_count": 658,
   "metadata": {
    "pycharm": {
     "name": "#%%\n"
    }
   },
   "outputs": [
    {
     "name": "stdout",
     "output_type": "stream",
     "text": [
      "              waist          hips          size  hips-squared\n",
      "count  10096.000000  10096.000000  10096.000000  10096.000000\n",
      "mean      83.726823    106.482765      8.383518  11458.245234\n",
      "std       17.261658     10.939790      4.366052   2304.420040\n",
      "min       60.000000     85.000000      1.000000   7225.000000\n",
      "25%       69.500000     97.750000      5.000000   9555.060000\n",
      "50%       77.750000    108.250000      8.000000  11718.060000\n",
      "75%      100.000000    115.000000     12.000000  13225.000000\n",
      "max      120.750000    126.750000     16.000000  16065.560000\n"
     ]
    }
   ],
   "source": [
    "from pathlib import Path\n",
    "\n",
    "clean_name = f\"../../generated/clean/{size_predictor_name}.csv\"\n",
    "filepath = Path(clean_name)\n",
    "filepath.parent.mkdir(parents=True, exist_ok=True)\n",
    "df.to_csv(filepath, encoding='utf-8', index=False)\n",
    "print(df.describe())"
   ]
  },
  {
   "cell_type": "markdown",
   "metadata": {
    "pycharm": {
     "name": "#%% md\n"
    }
   },
   "source": [
    "# Model implement (Decision Tree Classifier)"
   ]
  },
  {
   "cell_type": "code",
   "execution_count": 659,
   "metadata": {
    "pycharm": {
     "name": "#%%\n"
    }
   },
   "outputs": [
    {
     "name": "stdout",
     "output_type": "stream",
     "text": [
      "../../generated/clean/jeans_indigo_old.csv\n",
      "../../generated/clean/jeans_indigo_travel.csv\n"
     ]
    }
   ],
   "source": [
    "# Regular EDA (exploratory data analysis) and plotting libraries\n",
    "import warnings\n",
    "from sklearn.metrics import confusion_matrix, classification_report\n",
    "from sklearn.model_selection import RandomizedSearchCV, GridSearchCV\n",
    "from sklearn.model_selection import train_test_split, cross_val_score\n",
    "from sklearn.tree import DecisionTreeClassifier\n",
    "from sklearn.ensemble import RandomForestClassifier\n",
    "from sklearn.neighbors import KNeighborsClassifier\n",
    "from sklearn.linear_model import LogisticRegression\n",
    "import os\n",
    "import pandas as pd\n",
    "import numpy as np\n",
    "import matplotlib.pyplot as plt\n",
    "import seaborn as sns\n",
    "\n",
    "%matplotlib inline\n",
    "\n",
    "# Models from Scikit-learn\n",
    "\n",
    "# Model Evaluations\n",
    "\n",
    "warnings.filterwarnings('ignore')\n",
    "\n",
    "for dirname, _, filenames in os.walk('../../generated/clean/'):\n",
    "    for filename in filenames:\n",
    "        print(os.path.join(dirname, filename))\n"
   ]
  },
  {
   "cell_type": "code",
   "execution_count": 660,
   "metadata": {
    "pycharm": {
     "name": "#%%\n"
    }
   },
   "outputs": [],
   "source": [
    "df = pd.read_csv(r\"../../generated/clean/jeans_indigo_old.csv\")\n"
   ]
  },
  {
   "cell_type": "code",
   "execution_count": 661,
   "metadata": {
    "pycharm": {
     "name": "#%%\n"
    }
   },
   "outputs": [
    {
     "data": {
      "text/plain": "<AxesSubplot:xlabel='size', ylabel='count'>"
     },
     "execution_count": 661,
     "metadata": {},
     "output_type": "execute_result"
    },
    {
     "data": {
      "text/plain": "<Figure size 432x288 with 1 Axes>",
      "image/png": "[encoded data removed]"
     },
     "metadata": {
      "needs_background": "light"
     },
     "output_type": "display_data"
    }
   ],
   "source": [
    "# Number of occurences for each size (target variable)\n",
    "sns.countplot(x=df[\"size\"])\n"
   ]
  },
  {
   "cell_type": "code",
   "execution_count": 662,
   "metadata": {
    "pycharm": {
     "name": "#%%\n"
    }
   },
   "outputs": [
    {
     "data": {
      "text/plain": "<seaborn.axisgrid.FacetGrid at 0x1391c9760>"
     },
     "execution_count": 662,
     "metadata": {},
     "output_type": "execute_result"
    },
    {
     "data": {
      "text/plain": "<Figure size 360x360 with 1 Axes>",
      "image/png": "[encoded data removed]"
     },
     "metadata": {
      "needs_background": "light"
     },
     "output_type": "display_data"
    }
   ],
   "source": [
    "# Age distribution\n",
    "sns.displot(df[\"waist\"])\n"
   ]
  },
  {
   "cell_type": "code",
   "execution_count": 663,
   "metadata": {
    "pycharm": {
     "name": "#%%\n"
    }
   },
   "outputs": [
    {
     "data": {
      "text/plain": "<seaborn.axisgrid.FacetGrid at 0x1391c96d0>"
     },
     "execution_count": 663,
     "metadata": {},
     "output_type": "execute_result"
    },
    {
     "data": {
      "text/plain": "<Figure size 360x360 with 1 Axes>",
      "image/png": "[encoded data removed]"
     },
     "metadata": {
      "needs_background": "light"
     },
     "output_type": "display_data"
    }
   ],
   "source": [
    "# Age distribution\n",
    "sns.displot(df[\"hips\"])\n"
   ]
  },
  {
   "cell_type": "code",
   "execution_count": 664,
   "metadata": {
    "pycharm": {
     "name": "#%%\n"
    }
   },
   "outputs": [
    {
     "data": {
      "text/plain": "waist           0\nhips            0\nsize            0\nhips-squared    0\ndtype: int64"
     },
     "execution_count": 664,
     "metadata": {},
     "output_type": "execute_result"
    }
   ],
   "source": [
    "df.isna().sum()\n"
   ]
  },
  {
   "cell_type": "code",
   "execution_count": 665,
   "metadata": {
    "pycharm": {
     "name": "#%%\n"
    }
   },
   "outputs": [],
   "source": [
    "# Normalize the data\n",
    "min_waist = len(df[\"size\"].unique())\n"
   ]
  },
  {
   "cell_type": "code",
   "execution_count": 666,
   "metadata": {
    "pycharm": {
     "name": "#%%\n"
    }
   },
   "outputs": [
    {
     "data": {
      "text/plain": "        waist    hips  size  hips-squared\n0       60.00   85.00     1       7225.00\n1       60.00   85.25     1       7267.56\n2       60.00   85.50     1       7310.25\n3       60.00   85.75     1       7353.06\n4       60.00   86.00     1       7396.00\n...       ...     ...   ...           ...\n10091  120.75  125.75    16      15813.06\n10092  120.75  126.00    16      15876.00\n10093  120.75  126.25    16      15939.06\n10094  120.75  126.50    16      16002.25\n10095  120.75  126.75    16      16065.56\n\n[10096 rows x 4 columns]",
      "text/html": "<div>\n<style scoped>\n    .dataframe tbody tr th:only-of-type {\n        vertical-align: middle;\n    }\n\n    .dataframe tbody tr th {\n        vertical-align: top;\n    }\n\n    .dataframe thead th {\n        text-align: right;\n    }\n</style>\n<table border=\"1\" class=\"dataframe\">\n  <thead>\n    <tr style=\"text-align: right;\">\n      <th></th>\n      <th>waist</th>\n      <th>hips</th>\n      <th>size</th>\n      <th>hips-squared</th>\n    </tr>\n  </thead>\n  <tbody>\n    <tr>\n      <th>0</th>\n      <td>60.00</td>\n      <td>85.00</td>\n      <td>1</td>\n      <td>7225.00</td>\n    </tr>\n    <tr>\n      <th>1</th>\n      <td>60.00</td>\n      <td>85.25</td>\n      <td>1</td>\n      <td>7267.56</td>\n    </tr>\n    <tr>\n      <th>2</th>\n      <td>60.00</td>\n      <td>85.50</td>\n      <td>1</td>\n      <td>7310.25</td>\n    </tr>\n    <tr>\n      <th>3</th>\n      <td>60.00</td>\n      <td>85.75</td>\n      <td>1</td>\n      <td>7353.06</td>\n    </tr>\n    <tr>\n      <th>4</th>\n      <td>60.00</td>\n      <td>86.00</td>\n      <td>1</td>\n      <td>7396.00</td>\n    </tr>\n    <tr>\n      <th>...</th>\n      <td>...</td>\n      <td>...</td>\n      <td>...</td>\n      <td>...</td>\n    </tr>\n    <tr>\n      <th>10091</th>\n      <td>120.75</td>\n      <td>125.75</td>\n      <td>16</td>\n      <td>15813.06</td>\n    </tr>\n    <tr>\n      <th>10092</th>\n      <td>120.75</td>\n      <td>126.00</td>\n      <td>16</td>\n      <td>15876.00</td>\n    </tr>\n    <tr>\n      <th>10093</th>\n      <td>120.75</td>\n      <td>126.25</td>\n      <td>16</td>\n      <td>15939.06</td>\n    </tr>\n    <tr>\n      <th>10094</th>\n      <td>120.75</td>\n      <td>126.50</td>\n      <td>16</td>\n      <td>16002.25</td>\n    </tr>\n    <tr>\n      <th>10095</th>\n      <td>120.75</td>\n      <td>126.75</td>\n      <td>16</td>\n      <td>16065.56</td>\n    </tr>\n  </tbody>\n</table>\n<p>10096 rows × 4 columns</p>\n</div>"
     },
     "execution_count": 666,
     "metadata": {},
     "output_type": "execute_result"
    }
   ],
   "source": [
    "df"
   ]
  },
  {
   "cell_type": "code",
   "execution_count": 667,
   "metadata": {
    "pycharm": {
     "name": "#%%\n"
    }
   },
   "outputs": [
    {
     "data": {
      "text/plain": "<Figure size 432x288 with 2 Axes>",
      "image/png": "[encoded data removed]"
     },
     "metadata": {
      "needs_background": "light"
     },
     "output_type": "display_data"
    }
   ],
   "source": [
    "corr = sns.heatmap(df.corr(), annot=True)\n"
   ]
  },
  {
   "cell_type": "code",
   "execution_count": 668,
   "metadata": {
    "pycharm": {
     "name": "#%%\n"
    }
   },
   "outputs": [],
   "source": [
    "# Features\n",
    "X = df.drop(\"size\", axis=1)\n",
    "\n",
    "# Target\n",
    "y = df[\"size\"]\n"
   ]
  },
  {
   "cell_type": "code",
   "execution_count": 669,
   "metadata": {
    "pycharm": {
     "name": "#%%\n"
    }
   },
   "outputs": [
    {
     "data": {
      "text/plain": "   waist   hips  hips-squared\n0   60.0  85.00       7225.00\n1   60.0  85.25       7267.56\n2   60.0  85.50       7310.25\n3   60.0  85.75       7353.06\n4   60.0  86.00       7396.00",
      "text/html": "<div>\n<style scoped>\n    .dataframe tbody tr th:only-of-type {\n        vertical-align: middle;\n    }\n\n    .dataframe tbody tr th {\n        vertical-align: top;\n    }\n\n    .dataframe thead th {\n        text-align: right;\n    }\n</style>\n<table border=\"1\" class=\"dataframe\">\n  <thead>\n    <tr style=\"text-align: right;\">\n      <th></th>\n      <th>waist</th>\n      <th>hips</th>\n      <th>hips-squared</th>\n    </tr>\n  </thead>\n  <tbody>\n    <tr>\n      <th>0</th>\n      <td>60.0</td>\n      <td>85.00</td>\n      <td>7225.00</td>\n    </tr>\n    <tr>\n      <th>1</th>\n      <td>60.0</td>\n      <td>85.25</td>\n      <td>7267.56</td>\n    </tr>\n    <tr>\n      <th>2</th>\n      <td>60.0</td>\n      <td>85.50</td>\n      <td>7310.25</td>\n    </tr>\n    <tr>\n      <th>3</th>\n      <td>60.0</td>\n      <td>85.75</td>\n      <td>7353.06</td>\n    </tr>\n    <tr>\n      <th>4</th>\n      <td>60.0</td>\n      <td>86.00</td>\n      <td>7396.00</td>\n    </tr>\n  </tbody>\n</table>\n</div>"
     },
     "execution_count": 669,
     "metadata": {},
     "output_type": "execute_result"
    }
   ],
   "source": [
    "X.head()\n"
   ]
  },
  {
   "cell_type": "code",
   "execution_count": 670,
   "metadata": {
    "pycharm": {
     "name": "#%%\n"
    }
   },
   "outputs": [
    {
     "data": {
      "text/plain": "0    1\n1    1\n2    1\n3    1\n4    1\nName: size, dtype: int64"
     },
     "execution_count": 670,
     "metadata": {},
     "output_type": "execute_result"
    }
   ],
   "source": [
    "y.head()\n"
   ]
  },
  {
   "cell_type": "code",
   "execution_count": 671,
   "metadata": {
    "pycharm": {
     "name": "#%%\n"
    }
   },
   "outputs": [],
   "source": [
    "# Splitting data into training set and validation set\n",
    "\n",
    "X_train, X_test, y_train, y_test, = train_test_split(X, y, test_size=0.10)\n"
   ]
  },
  {
   "cell_type": "code",
   "execution_count": 672,
   "metadata": {
    "pycharm": {
     "name": "#%%\n"
    }
   },
   "outputs": [
    {
     "data": {
      "text/plain": "(9086, 1010)"
     },
     "execution_count": 672,
     "metadata": {},
     "output_type": "execute_result"
    }
   ],
   "source": [
    "len(X_train), len(X_test)\n"
   ]
  },
  {
   "cell_type": "code",
   "execution_count": 673,
   "metadata": {
    "pycharm": {
     "name": "#%%\n"
    }
   },
   "outputs": [],
   "source": [
    "# Put models in a dictionary\n",
    "models_list = {\"Logistic Regression\": LogisticRegression(),\n",
    "          \"KNN\": KNeighborsClassifier(),\n",
    "          \"Random Forest\": RandomForestClassifier(),\n",
    "          \"Decision Tree\": DecisionTreeClassifier()}\n",
    "\n",
    "# Create a function to fit and score models\n",
    "\n",
    "\n",
    "def fit_and_score(models, xx_train, xx_test, yy_train, yy_test):\n",
    "    \"\"\"\n",
    "   Fits and evaluates given machine learning models.\n",
    "   models: a dict of different Scikit_Learn machine learning models\n",
    "   X_train: training data (no labels)\n",
    "   X_test: testing data (no labels)\n",
    "   y_train: training labels\n",
    "   y_test: test labels\n",
    "   \"\"\"\n",
    "    # Set random seed\n",
    "    np.random.seed(18)\n",
    "    # Make a dictionary to keep model scores\n",
    "    model_scores = {}\n",
    "    # Loop through models\n",
    "    for name, model in models.items():\n",
    "        # Fit model to data\n",
    "        model.fit(xx_train, yy_train)\n",
    "        # Evaluate model and append its score to model_scores\n",
    "        model_scores[name] = model.score(xx_test, yy_test)\n",
    "\n",
    "    return model_scores\n"
   ]
  },
  {
   "cell_type": "code",
   "execution_count": 674,
   "metadata": {
    "pycharm": {
     "name": "#%%\n"
    }
   },
   "outputs": [
    {
     "data": {
      "text/plain": "{'Logistic Regression': 0.7306930693069307,\n 'KNN': 0.9762376237623762,\n 'Random Forest': 1.0,\n 'Decision Tree': 1.0}"
     },
     "execution_count": 674,
     "metadata": {},
     "output_type": "execute_result"
    }
   ],
   "source": [
    "model_scores_data = fit_and_score(models_list, X_train, X_test, y_train, y_test)\n",
    "\n",
    "model_scores_data\n"
   ]
  },
  {
   "cell_type": "code",
   "execution_count": 675,
   "metadata": {
    "pycharm": {
     "name": "#%%\n"
    }
   },
   "outputs": [
    {
     "data": {
      "text/plain": "<AxesSubplot:>"
     },
     "execution_count": 675,
     "metadata": {},
     "output_type": "execute_result"
    },
    {
     "data": {
      "text/plain": "<Figure size 432x288 with 1 Axes>",
      "image/png": "[encoded data removed]"
     },
     "metadata": {
      "needs_background": "light"
     },
     "output_type": "display_data"
    }
   ],
   "source": [
    "model_compare = pd.DataFrame(model_scores_data, index=[\"accuracy\"])\n",
    "model_compare.T.plot.bar()\n"
   ]
  },
  {
   "cell_type": "code",
   "execution_count": 676,
   "metadata": {
    "pycharm": {
     "name": "#%%\n"
    }
   },
   "outputs": [],
   "source": [
    "from sklearn.linear_model import LinearRegression\n",
    "\n",
    "# linear comparison\n",
    "X_linear = df.iloc[:, 0].values.reshape(-1, 1)\n",
    "y_linear = df.iloc[:, 1].values.reshape(-1, 1)\n",
    "linear_regressor = LinearRegression()\n",
    "linear_regressor.fit(X_linear, y_linear)\n",
    "Y_pred_linear = linear_regressor.predict(X_linear)\n"
   ]
  },
  {
   "cell_type": "code",
   "execution_count": 677,
   "metadata": {
    "pycharm": {
     "name": "#%%\n"
    }
   },
   "outputs": [
    {
     "data": {
      "text/plain": "<Figure size 432x288 with 1 Axes>",
      "image/png": "[encoded data removed]"
     },
     "metadata": {
      "needs_background": "light"
     },
     "output_type": "display_data"
    }
   ],
   "source": [
    "plt.scatter(X_linear, y_linear)\n",
    "plt.plot(X_linear, Y_pred_linear, color='red')\n",
    "plt.show()\n"
   ]
  },
  {
   "cell_type": "code",
   "execution_count": 678,
   "metadata": {
    "pycharm": {
     "name": "#%%\n"
    }
   },
   "outputs": [],
   "source": [
    "clf = DecisionTreeClassifier()\n",
    "clf.fit(X_train, y_train)\n",
    "y_pred = clf.predict(X_test)\n"
   ]
  },
  {
   "cell_type": "code",
   "execution_count": 679,
   "metadata": {
    "pycharm": {
     "name": "#%%\n"
    }
   },
   "outputs": [
    {
     "name": "stdout",
     "output_type": "stream",
     "text": [
      "[[ 54   0   0   0   0   0   0   0   0   0   0   0   0   0   0   0]\n",
      " [  0  50   0   0   0   0   0   0   0   0   0   0   0   0   0   0]\n",
      " [  0   0  59   0   0   0   0   0   0   0   0   0   0   0   0   0]\n",
      " [  0   0   0  78   0   0   0   0   0   0   0   0   0   0   0   0]\n",
      " [  0   0   0   0  70   0   0   0   0   0   0   0   0   0   0   0]\n",
      " [  0   0   0   0   0  42   0   0   0   0   0   0   0   0   0   0]\n",
      " [  0   0   0   0   0   0 124   0   0   0   0   0   0   0   0   0]\n",
      " [  0   0   0   0   0   0   0  56   0   0   0   0   0   0   0   0]\n",
      " [  0   0   0   0   0   0   0   0  69   0   0   0   0   0   0   0]\n",
      " [  0   0   0   0   0   0   0   0   0  68   0   0   0   0   0   0]\n",
      " [  0   0   0   0   0   0   0   0   0   0  74   0   0   0   0   0]\n",
      " [  0   0   0   0   0   0   0   0   0   0   0  61   0   0   0   0]\n",
      " [  0   0   0   0   0   0   0   0   0   0   0   0  68   0   0   0]\n",
      " [  0   0   0   0   0   0   0   0   0   0   0   0   0  49   0   0]\n",
      " [  0   0   0   0   0   0   0   0   0   0   0   0   0   0  52   0]\n",
      " [  0   0   0   0   0   0   0   0   0   0   0   0   0   0   0  36]]\n"
     ]
    }
   ],
   "source": [
    "# Confusion matrix\n",
    "print(confusion_matrix(y_test, y_pred))\n"
   ]
  },
  {
   "cell_type": "code",
   "execution_count": 680,
   "metadata": {
    "pycharm": {
     "name": "#%%\n"
    }
   },
   "outputs": [
    {
     "name": "stdout",
     "output_type": "stream",
     "text": [
      "              precision    recall  f1-score   support\n",
      "\n",
      "           1       1.00      1.00      1.00        54\n",
      "           2       1.00      1.00      1.00        50\n",
      "           3       1.00      1.00      1.00        59\n",
      "           4       1.00      1.00      1.00        78\n",
      "           5       1.00      1.00      1.00        70\n",
      "           6       1.00      1.00      1.00        42\n",
      "           7       1.00      1.00      1.00       124\n",
      "           8       1.00      1.00      1.00        56\n",
      "           9       1.00      1.00      1.00        69\n",
      "          10       1.00      1.00      1.00        68\n",
      "          11       1.00      1.00      1.00        74\n",
      "          12       1.00      1.00      1.00        61\n",
      "          13       1.00      1.00      1.00        68\n",
      "          14       1.00      1.00      1.00        49\n",
      "          15       1.00      1.00      1.00        52\n",
      "          16       1.00      1.00      1.00        36\n",
      "\n",
      "    accuracy                           1.00      1010\n",
      "   macro avg       1.00      1.00      1.00      1010\n",
      "weighted avg       1.00      1.00      1.00      1010\n",
      "\n"
     ]
    }
   ],
   "source": [
    "# Classification report\n",
    "print(classification_report(y_test, y_pred))\n"
   ]
  },
  {
   "cell_type": "code",
   "execution_count": 681,
   "metadata": {
    "pycharm": {
     "name": "#%%\n"
    }
   },
   "outputs": [
    {
     "data": {
      "text/plain": "3"
     },
     "execution_count": 681,
     "metadata": {},
     "output_type": "execute_result"
    }
   ],
   "source": [
    "# Find feature importance of ideal model\n",
    "len(clf.feature_importances_)\n"
   ]
  },
  {
   "cell_type": "code",
   "execution_count": 682,
   "metadata": {
    "pycharm": {
     "name": "#%%\n"
    }
   },
   "outputs": [
    {
     "data": {
      "text/plain": "array([0.60995052, 0.24705093, 0.14299855])"
     },
     "execution_count": 682,
     "metadata": {},
     "output_type": "execute_result"
    }
   ],
   "source": [
    "clf.feature_importances_\n"
   ]
  },
  {
   "cell_type": "code",
   "execution_count": 683,
   "metadata": {
    "pycharm": {
     "name": "#%%\n"
    }
   },
   "outputs": [
    {
     "data": {
      "text/plain": "<Figure size 432x288 with 1 Axes>",
      "image/png": "[encoded data removed]"
     },
     "metadata": {
      "needs_background": "light"
     },
     "output_type": "display_data"
    }
   ],
   "source": [
    "# Helper function for plotting feature importance\n",
    "def plot_features(columns, importances, n=20):\n",
    "    df = (pd.DataFrame({\"features\": columns,\n",
    "                       \"feature_importances\": importances})\n",
    "          .sort_values(\"feature_importances\", ascending=False)\n",
    "          .reset_index(drop=True))\n",
    "    # Plot dataframe\n",
    "    fix, ax = plt.subplots()\n",
    "    ax.barh(df[\"features\"][:n], df[\"feature_importances\"][:20])\n",
    "    ax.set_ylabel(\"Features\")\n",
    "    ax.set_xlabel(\"Feature Importance\")\n",
    "    ax.invert_yaxis()\n",
    "\n",
    "\n",
    "plot_features(X_train.columns, clf.feature_importances_)\n"
   ]
  },
  {
   "cell_type": "markdown",
   "metadata": {
    "pycharm": {
     "name": "#%% md\n"
    }
   },
   "source": [
    "# Decision Tree"
   ]
  },
  {
   "cell_type": "code",
   "execution_count": 684,
   "metadata": {
    "pycharm": {
     "name": "#%%\n"
    }
   },
   "outputs": [],
   "source": [
    "import joblib\n",
    "from sklearn.preprocessing import StandardScaler\n",
    "import matplotlib.pyplot as plt\n",
    "from sklearn.model_selection import train_test_split\n",
    "from sklearn.tree import DecisionTreeClassifier\n",
    "\n",
    "# Features\n",
    "X = df.drop(\"size\", axis=1)\n",
    "\n",
    "# Target\n",
    "y = df[\"size\"]\n"
   ]
  },
  {
   "cell_type": "code",
   "execution_count": 685,
   "metadata": {
    "pycharm": {
     "name": "#%%\n"
    }
   },
   "outputs": [
    {
     "data": {
      "text/plain": "['../../generated/models/jeans_indigo_old.pkl']"
     },
     "execution_count": 685,
     "metadata": {},
     "output_type": "execute_result"
    },
    {
     "data": {
      "text/plain": "<Figure size 432x288 with 1 Axes>",
      "image/png": "[encoded data removed]"
     },
     "metadata": {
      "needs_background": "light"
     },
     "output_type": "display_data"
    }
   ],
   "source": [
    "\n",
    "\n",
    "# Splitting data into training set and validation set\n",
    "X_train, X_test, y_train, y_test, = train_test_split(X, y, test_size=0.25)\n",
    "\n",
    "\n",
    "tree_classifier = DecisionTreeClassifier(random_state=0)\n",
    "path = tree_classifier.cost_complexity_pruning_path(X_train, y_train)\n",
    "ccp_alphas, impurities = path.ccp_alphas, path.impurities\n",
    "fig, axis = plt.subplots()\n",
    "axis.plot(ccp_alphas[:-1], impurities[:-1], marker=\"o\", drawstyle=\"steps-post\")\n",
    "axis.set_xlabel(\"Effective alpha\")\n",
    "axis.set_ylabel(\"Total impurity of leaves\")\n",
    "axis.set_title(\"Total Impurity vs effective alpha for training set\")\n",
    "tree_classifier.fit(X_train, y_train)\n",
    "joblib.dump(tree_classifier, '../../generated/models/jeans_indigo_old.pkl')\n"
   ]
  },
  {
   "cell_type": "code",
   "execution_count": 685,
   "outputs": [],
   "source": [],
   "metadata": {
    "collapsed": false,
    "pycharm": {
     "name": "#%%\n"
    }
   }
  },
  {
   "cell_type": "code",
   "execution_count": 686,
   "metadata": {
    "pycharm": {
     "name": "#%%\n"
    }
   },
   "outputs": [
    {
     "data": {
      "text/plain": "<Figure size 720x720 with 1 Axes>",
      "image/png": "[encoded data removed]"
     },
     "metadata": {
      "needs_background": "light"
     },
     "output_type": "display_data"
    }
   ],
   "source": [
    "from sklearn import tree\n",
    "fig, ax = plt.subplots(figsize=(10, 10))  # whatever size you want\n",
    "tree.plot_tree(tree_classifier, ax=ax)\n",
    "plt.show()\n"
   ]
  },
  {
   "cell_type": "code",
   "execution_count": 687,
   "metadata": {
    "pycharm": {
     "name": "#%%\n"
    }
   },
   "outputs": [
    {
     "data": {
      "image/svg+xml": "<?xml version=\"1.0\" encoding=\"UTF-8\" standalone=\"no\"?>\n<!DOCTYPE svg PUBLIC \"-//W3C//DTD SVG 1.1//EN\"\n \"http://www.w3.org/Graphics/SVG/1.1/DTD/svg11.dtd\">\n<!-- Generated by graphviz version 3.0.0 (20220226.1711)\n -->\n<!-- Title: Tree Pages: 1 -->\n<svg width=\"3328pt\" height=\"671pt\"\n viewBox=\"0.00 0.00 3327.50 671.00\" xmlns=\"http://www.w3.org/2000/svg\" xmlns:xlink=\"http://www.w3.org/1999/xlink\">\n<g id=\"graph0\" class=\"graph\" transform=\"scale(1 1) rotate(0) translate(4 667)\">\n<title>Tree</title>\n<polygon fill=\"white\" stroke=\"transparent\" points=\"-4,4 -4,-667 3323.5,-667 3323.5,4 -4,4\"/>\n<!-- 0 -->\n<g id=\"node1\" class=\"node\">\n<title>0</title>\n<polygon fill=\"none\" stroke=\"black\" points=\"2161.5,-663 1800.5,-663 1800.5,-580 2161.5,-580 2161.5,-663\"/>\n<text text-anchor=\"middle\" x=\"1981\" y=\"-647.8\" font-family=\"Helvetica,sans-Serif\" font-size=\"14.00\">X[1] &lt;= 104.875</text>\n<text text-anchor=\"middle\" x=\"1981\" y=\"-632.8\" font-family=\"Helvetica,sans-Serif\" font-size=\"14.00\">gini = 0.933</text>\n<text text-anchor=\"middle\" x=\"1981\" y=\"-617.8\" font-family=\"Helvetica,sans-Serif\" font-size=\"14.00\">samples = 7572</text>\n<text text-anchor=\"middle\" x=\"1981\" y=\"-602.8\" font-family=\"Helvetica,sans-Serif\" font-size=\"14.00\">value = [423, 451, 427, 418, 585, 278, 850, 432, 555, 396</text>\n<text text-anchor=\"middle\" x=\"1981\" y=\"-587.8\" font-family=\"Helvetica,sans-Serif\" font-size=\"14.00\">605, 434, 560, 395, 485, 278]</text>\n</g>\n<!-- 1 -->\n<g id=\"node2\" class=\"node\">\n<title>1</title>\n<polygon fill=\"none\" stroke=\"black\" points=\"1857.5,-544 1526.5,-544 1526.5,-461 1857.5,-461 1857.5,-544\"/>\n<text text-anchor=\"middle\" x=\"1692\" y=\"-528.8\" font-family=\"Helvetica,sans-Serif\" font-size=\"14.00\">X[0] &lt;= 71.875</text>\n<text text-anchor=\"middle\" x=\"1692\" y=\"-513.8\" font-family=\"Helvetica,sans-Serif\" font-size=\"14.00\">gini = 0.819</text>\n<text text-anchor=\"middle\" x=\"1692\" y=\"-498.8\" font-family=\"Helvetica,sans-Serif\" font-size=\"14.00\">samples = 3154</text>\n<text text-anchor=\"middle\" x=\"1692\" y=\"-483.8\" font-family=\"Helvetica,sans-Serif\" font-size=\"14.00\">value = [423, 451, 427, 418, 585, 0, 850, 0, 0, 0, 0, 0</text>\n<text text-anchor=\"middle\" x=\"1692\" y=\"-468.8\" font-family=\"Helvetica,sans-Serif\" font-size=\"14.00\">0, 0, 0, 0]</text>\n</g>\n<!-- 0&#45;&gt;1 -->\n<g id=\"edge1\" class=\"edge\">\n<title>0&#45;&gt;1</title>\n<path fill=\"none\" stroke=\"black\" d=\"M1880.73,-579.91C1855.18,-569.56 1827.58,-558.39 1801.59,-547.87\"/>\n<polygon fill=\"black\" stroke=\"black\" points=\"1802.67,-544.53 1792.09,-544.02 1800.05,-551.02 1802.67,-544.53\"/>\n<text text-anchor=\"middle\" x=\"1801.84\" y=\"-563.34\" font-family=\"Helvetica,sans-Serif\" font-size=\"14.00\">True</text>\n</g>\n<!-- 12 -->\n<g id=\"node13\" class=\"node\">\n<title>12</title>\n<polygon fill=\"none\" stroke=\"black\" points=\"2372.5,-544 2041.5,-544 2041.5,-461 2372.5,-461 2372.5,-544\"/>\n<text text-anchor=\"middle\" x=\"2207\" y=\"-528.8\" font-family=\"Helvetica,sans-Serif\" font-size=\"14.00\">X[2] &lt;= 13894.53</text>\n<text text-anchor=\"middle\" x=\"2207\" y=\"-513.8\" font-family=\"Helvetica,sans-Serif\" font-size=\"14.00\">gini = 0.894</text>\n<text text-anchor=\"middle\" x=\"2207\" y=\"-498.8\" font-family=\"Helvetica,sans-Serif\" font-size=\"14.00\">samples = 4418</text>\n<text text-anchor=\"middle\" x=\"2207\" y=\"-483.8\" font-family=\"Helvetica,sans-Serif\" font-size=\"14.00\">value = [0, 0, 0, 0, 0, 278, 0, 432, 555, 396, 605, 434</text>\n<text text-anchor=\"middle\" x=\"2207\" y=\"-468.8\" font-family=\"Helvetica,sans-Serif\" font-size=\"14.00\">560, 395, 485, 278]</text>\n</g>\n<!-- 0&#45;&gt;12 -->\n<g id=\"edge12\" class=\"edge\">\n<title>0&#45;&gt;12</title>\n<path fill=\"none\" stroke=\"black\" d=\"M2059.41,-579.91C2078.87,-569.83 2099.84,-558.98 2119.69,-548.7\"/>\n<polygon fill=\"black\" stroke=\"black\" points=\"2121.46,-551.73 2128.73,-544.02 2118.24,-545.51 2121.46,-551.73\"/>\n<text text-anchor=\"middle\" x=\"2121.16\" y=\"-564.15\" font-family=\"Helvetica,sans-Serif\" font-size=\"14.00\">False</text>\n</g>\n<!-- 2 -->\n<g id=\"node3\" class=\"node\">\n<title>2</title>\n<polygon fill=\"none\" stroke=\"black\" points=\"1417,-425 1101,-425 1101,-342 1417,-342 1417,-425\"/>\n<text text-anchor=\"middle\" x=\"1259\" y=\"-409.8\" font-family=\"Helvetica,sans-Serif\" font-size=\"14.00\">X[1] &lt;= 96.875</text>\n<text text-anchor=\"middle\" x=\"1259\" y=\"-394.8\" font-family=\"Helvetica,sans-Serif\" font-size=\"14.00\">gini = 0.796</text>\n<text text-anchor=\"middle\" x=\"1259\" y=\"-379.8\" font-family=\"Helvetica,sans-Serif\" font-size=\"14.00\">samples = 2304</text>\n<text text-anchor=\"middle\" x=\"1259\" y=\"-364.8\" font-family=\"Helvetica,sans-Serif\" font-size=\"14.00\">value = [423, 451, 427, 418, 585, 0, 0, 0, 0, 0, 0, 0</text>\n<text text-anchor=\"middle\" x=\"1259\" y=\"-349.8\" font-family=\"Helvetica,sans-Serif\" font-size=\"14.00\">0, 0, 0, 0]</text>\n</g>\n<!-- 1&#45;&gt;2 -->\n<g id=\"edge2\" class=\"edge\">\n<title>1&#45;&gt;2</title>\n<path fill=\"none\" stroke=\"black\" d=\"M1542.08,-460.99C1502.35,-450.25 1459.3,-438.62 1419.06,-427.75\"/>\n<polygon fill=\"black\" stroke=\"black\" points=\"1419.73,-424.3 1409.16,-425.07 1417.9,-431.06 1419.73,-424.3\"/>\n</g>\n<!-- 11 -->\n<g id=\"node12\" class=\"node\">\n<title>11</title>\n<polygon fill=\"none\" stroke=\"black\" points=\"1835,-417.5 1549,-417.5 1549,-349.5 1835,-349.5 1835,-417.5\"/>\n<text text-anchor=\"middle\" x=\"1692\" y=\"-402.3\" font-family=\"Helvetica,sans-Serif\" font-size=\"14.00\">gini = 0.0</text>\n<text text-anchor=\"middle\" x=\"1692\" y=\"-387.3\" font-family=\"Helvetica,sans-Serif\" font-size=\"14.00\">samples = 850</text>\n<text text-anchor=\"middle\" x=\"1692\" y=\"-372.3\" font-family=\"Helvetica,sans-Serif\" font-size=\"14.00\">value = [0, 0, 0, 0, 0, 0, 850, 0, 0, 0, 0, 0, 0, 0</text>\n<text text-anchor=\"middle\" x=\"1692\" y=\"-357.3\" font-family=\"Helvetica,sans-Serif\" font-size=\"14.00\">0, 0]</text>\n</g>\n<!-- 1&#45;&gt;11 -->\n<g id=\"edge11\" class=\"edge\">\n<title>1&#45;&gt;11</title>\n<path fill=\"none\" stroke=\"black\" d=\"M1692,-460.91C1692,-450.2 1692,-438.62 1692,-427.78\"/>\n<polygon fill=\"black\" stroke=\"black\" points=\"1695.5,-427.67 1692,-417.67 1688.5,-427.67 1695.5,-427.67\"/>\n</g>\n<!-- 3 -->\n<g id=\"node4\" class=\"node\">\n<title>3</title>\n<polygon fill=\"none\" stroke=\"black\" points=\"1069,-306 753,-306 753,-223 1069,-223 1069,-306\"/>\n<text text-anchor=\"middle\" x=\"911\" y=\"-290.8\" font-family=\"Helvetica,sans-Serif\" font-size=\"14.00\">X[1] &lt;= 90.875</text>\n<text text-anchor=\"middle\" x=\"911\" y=\"-275.8\" font-family=\"Helvetica,sans-Serif\" font-size=\"14.00\">gini = 0.75</text>\n<text text-anchor=\"middle\" x=\"911\" y=\"-260.8\" font-family=\"Helvetica,sans-Serif\" font-size=\"14.00\">samples = 1719</text>\n<text text-anchor=\"middle\" x=\"911\" y=\"-245.8\" font-family=\"Helvetica,sans-Serif\" font-size=\"14.00\">value = [423, 451, 427, 418, 0, 0, 0, 0, 0, 0, 0, 0, 0</text>\n<text text-anchor=\"middle\" x=\"911\" y=\"-230.8\" font-family=\"Helvetica,sans-Serif\" font-size=\"14.00\">0, 0, 0]</text>\n</g>\n<!-- 2&#45;&gt;3 -->\n<g id=\"edge3\" class=\"edge\">\n<title>2&#45;&gt;3</title>\n<path fill=\"none\" stroke=\"black\" d=\"M1138.26,-341.91C1106.95,-331.38 1073.09,-320 1041.31,-309.31\"/>\n<polygon fill=\"black\" stroke=\"black\" points=\"1042.12,-305.89 1031.52,-306.02 1039.89,-312.53 1042.12,-305.89\"/>\n</g>\n<!-- 10 -->\n<g id=\"node11\" class=\"node\">\n<title>10</title>\n<polygon fill=\"none\" stroke=\"black\" points=\"1402,-298.5 1116,-298.5 1116,-230.5 1402,-230.5 1402,-298.5\"/>\n<text text-anchor=\"middle\" x=\"1259\" y=\"-283.3\" font-family=\"Helvetica,sans-Serif\" font-size=\"14.00\">gini = 0.0</text>\n<text text-anchor=\"middle\" x=\"1259\" y=\"-268.3\" font-family=\"Helvetica,sans-Serif\" font-size=\"14.00\">samples = 585</text>\n<text text-anchor=\"middle\" x=\"1259\" y=\"-253.3\" font-family=\"Helvetica,sans-Serif\" font-size=\"14.00\">value = [0, 0, 0, 0, 585, 0, 0, 0, 0, 0, 0, 0, 0, 0</text>\n<text text-anchor=\"middle\" x=\"1259\" y=\"-238.3\" font-family=\"Helvetica,sans-Serif\" font-size=\"14.00\">0, 0]</text>\n</g>\n<!-- 2&#45;&gt;10 -->\n<g id=\"edge10\" class=\"edge\">\n<title>2&#45;&gt;10</title>\n<path fill=\"none\" stroke=\"black\" d=\"M1259,-341.91C1259,-331.2 1259,-319.62 1259,-308.78\"/>\n<polygon fill=\"black\" stroke=\"black\" points=\"1262.5,-308.67 1259,-298.67 1255.5,-308.67 1262.5,-308.67\"/>\n</g>\n<!-- 4 -->\n<g id=\"node5\" class=\"node\">\n<title>4</title>\n<polygon fill=\"none\" stroke=\"black\" points=\"597.5,-187 296.5,-187 296.5,-104 597.5,-104 597.5,-187\"/>\n<text text-anchor=\"middle\" x=\"447\" y=\"-171.8\" font-family=\"Helvetica,sans-Serif\" font-size=\"14.00\">X[0] &lt;= 65.875</text>\n<text text-anchor=\"middle\" x=\"447\" y=\"-156.8\" font-family=\"Helvetica,sans-Serif\" font-size=\"14.00\">gini = 0.5</text>\n<text text-anchor=\"middle\" x=\"447\" y=\"-141.8\" font-family=\"Helvetica,sans-Serif\" font-size=\"14.00\">samples = 850</text>\n<text text-anchor=\"middle\" x=\"447\" y=\"-126.8\" font-family=\"Helvetica,sans-Serif\" font-size=\"14.00\">value = [423, 0, 427, 0, 0, 0, 0, 0, 0, 0, 0, 0, 0, 0</text>\n<text text-anchor=\"middle\" x=\"447\" y=\"-111.8\" font-family=\"Helvetica,sans-Serif\" font-size=\"14.00\">0, 0]</text>\n</g>\n<!-- 3&#45;&gt;4 -->\n<g id=\"edge4\" class=\"edge\">\n<title>3&#45;&gt;4</title>\n<path fill=\"none\" stroke=\"black\" d=\"M752.94,-223.64C706.11,-211.84 654.79,-198.89 607.79,-187.04\"/>\n<polygon fill=\"black\" stroke=\"black\" points=\"608.38,-183.58 597.83,-184.53 606.67,-190.37 608.38,-183.58\"/>\n</g>\n<!-- 7 -->\n<g id=\"node8\" class=\"node\">\n<title>7</title>\n<polygon fill=\"none\" stroke=\"black\" points=\"1061.5,-187 760.5,-187 760.5,-104 1061.5,-104 1061.5,-187\"/>\n<text text-anchor=\"middle\" x=\"911\" y=\"-171.8\" font-family=\"Helvetica,sans-Serif\" font-size=\"14.00\">X[0] &lt;= 65.875</text>\n<text text-anchor=\"middle\" x=\"911\" y=\"-156.8\" font-family=\"Helvetica,sans-Serif\" font-size=\"14.00\">gini = 0.499</text>\n<text text-anchor=\"middle\" x=\"911\" y=\"-141.8\" font-family=\"Helvetica,sans-Serif\" font-size=\"14.00\">samples = 869</text>\n<text text-anchor=\"middle\" x=\"911\" y=\"-126.8\" font-family=\"Helvetica,sans-Serif\" font-size=\"14.00\">value = [0, 451, 0, 418, 0, 0, 0, 0, 0, 0, 0, 0, 0, 0</text>\n<text text-anchor=\"middle\" x=\"911\" y=\"-111.8\" font-family=\"Helvetica,sans-Serif\" font-size=\"14.00\">0, 0]</text>\n</g>\n<!-- 3&#45;&gt;7 -->\n<g id=\"edge7\" class=\"edge\">\n<title>3&#45;&gt;7</title>\n<path fill=\"none\" stroke=\"black\" d=\"M911,-222.91C911,-214.65 911,-205.86 911,-197.3\"/>\n<polygon fill=\"black\" stroke=\"black\" points=\"914.5,-197.02 911,-187.02 907.5,-197.02 914.5,-197.02\"/>\n</g>\n<!-- 5 -->\n<g id=\"node6\" class=\"node\">\n<title>5</title>\n<polygon fill=\"none\" stroke=\"black\" points=\"286,-68 0,-68 0,0 286,0 286,-68\"/>\n<text text-anchor=\"middle\" x=\"143\" y=\"-52.8\" font-family=\"Helvetica,sans-Serif\" font-size=\"14.00\">gini = 0.0</text>\n<text text-anchor=\"middle\" x=\"143\" y=\"-37.8\" font-family=\"Helvetica,sans-Serif\" font-size=\"14.00\">samples = 423</text>\n<text text-anchor=\"middle\" x=\"143\" y=\"-22.8\" font-family=\"Helvetica,sans-Serif\" font-size=\"14.00\">value = [423, 0, 0, 0, 0, 0, 0, 0, 0, 0, 0, 0, 0, 0</text>\n<text text-anchor=\"middle\" x=\"143\" y=\"-7.8\" font-family=\"Helvetica,sans-Serif\" font-size=\"14.00\">0, 0]</text>\n</g>\n<!-- 4&#45;&gt;5 -->\n<g id=\"edge5\" class=\"edge\">\n<title>4&#45;&gt;5</title>\n<path fill=\"none\" stroke=\"black\" d=\"M334.23,-103.88C304.78,-93.27 273.22,-81.91 244.4,-71.52\"/>\n<polygon fill=\"black\" stroke=\"black\" points=\"245.33,-68.14 234.74,-68.04 242.96,-74.73 245.33,-68.14\"/>\n</g>\n<!-- 6 -->\n<g id=\"node7\" class=\"node\">\n<title>6</title>\n<polygon fill=\"none\" stroke=\"black\" points=\"590,-68 304,-68 304,0 590,0 590,-68\"/>\n<text text-anchor=\"middle\" x=\"447\" y=\"-52.8\" font-family=\"Helvetica,sans-Serif\" font-size=\"14.00\">gini = 0.0</text>\n<text text-anchor=\"middle\" x=\"447\" y=\"-37.8\" font-family=\"Helvetica,sans-Serif\" font-size=\"14.00\">samples = 427</text>\n<text text-anchor=\"middle\" x=\"447\" y=\"-22.8\" font-family=\"Helvetica,sans-Serif\" font-size=\"14.00\">value = [0, 0, 427, 0, 0, 0, 0, 0, 0, 0, 0, 0, 0, 0</text>\n<text text-anchor=\"middle\" x=\"447\" y=\"-7.8\" font-family=\"Helvetica,sans-Serif\" font-size=\"14.00\">0, 0]</text>\n</g>\n<!-- 4&#45;&gt;6 -->\n<g id=\"edge6\" class=\"edge\">\n<title>4&#45;&gt;6</title>\n<path fill=\"none\" stroke=\"black\" d=\"M447,-103.73C447,-95.52 447,-86.86 447,-78.56\"/>\n<polygon fill=\"black\" stroke=\"black\" points=\"450.5,-78.3 447,-68.3 443.5,-78.3 450.5,-78.3\"/>\n</g>\n<!-- 8 -->\n<g id=\"node9\" class=\"node\">\n<title>8</title>\n<polygon fill=\"none\" stroke=\"black\" points=\"894,-68 608,-68 608,0 894,0 894,-68\"/>\n<text text-anchor=\"middle\" x=\"751\" y=\"-52.8\" font-family=\"Helvetica,sans-Serif\" font-size=\"14.00\">gini = 0.0</text>\n<text text-anchor=\"middle\" x=\"751\" y=\"-37.8\" font-family=\"Helvetica,sans-Serif\" font-size=\"14.00\">samples = 451</text>\n<text text-anchor=\"middle\" x=\"751\" y=\"-22.8\" font-family=\"Helvetica,sans-Serif\" font-size=\"14.00\">value = [0, 451, 0, 0, 0, 0, 0, 0, 0, 0, 0, 0, 0, 0</text>\n<text text-anchor=\"middle\" x=\"751\" y=\"-7.8\" font-family=\"Helvetica,sans-Serif\" font-size=\"14.00\">0, 0]</text>\n</g>\n<!-- 7&#45;&gt;8 -->\n<g id=\"edge8\" class=\"edge\">\n<title>7&#45;&gt;8</title>\n<path fill=\"none\" stroke=\"black\" d=\"M851.42,-103.73C837.22,-94.01 822.1,-83.66 808.02,-74.02\"/>\n<polygon fill=\"black\" stroke=\"black\" points=\"809.63,-70.88 799.4,-68.13 805.68,-76.66 809.63,-70.88\"/>\n</g>\n<!-- 9 -->\n<g id=\"node10\" class=\"node\">\n<title>9</title>\n<polygon fill=\"none\" stroke=\"black\" points=\"1198,-68 912,-68 912,0 1198,0 1198,-68\"/>\n<text text-anchor=\"middle\" x=\"1055\" y=\"-52.8\" font-family=\"Helvetica,sans-Serif\" font-size=\"14.00\">gini = 0.0</text>\n<text text-anchor=\"middle\" x=\"1055\" y=\"-37.8\" font-family=\"Helvetica,sans-Serif\" font-size=\"14.00\">samples = 418</text>\n<text text-anchor=\"middle\" x=\"1055\" y=\"-22.8\" font-family=\"Helvetica,sans-Serif\" font-size=\"14.00\">value = [0, 0, 0, 418, 0, 0, 0, 0, 0, 0, 0, 0, 0, 0</text>\n<text text-anchor=\"middle\" x=\"1055\" y=\"-7.8\" font-family=\"Helvetica,sans-Serif\" font-size=\"14.00\">0, 0]</text>\n</g>\n<!-- 7&#45;&gt;9 -->\n<g id=\"edge9\" class=\"edge\">\n<title>7&#45;&gt;9</title>\n<path fill=\"none\" stroke=\"black\" d=\"M964.62,-103.73C977.21,-94.15 990.61,-83.96 1003.13,-74.44\"/>\n<polygon fill=\"black\" stroke=\"black\" points=\"1005.37,-77.14 1011.21,-68.3 1001.13,-71.57 1005.37,-77.14\"/>\n</g>\n<!-- 13 -->\n<g id=\"node14\" class=\"node\">\n<title>13</title>\n<polygon fill=\"none\" stroke=\"black\" points=\"2372.5,-425 2041.5,-425 2041.5,-342 2372.5,-342 2372.5,-425\"/>\n<text text-anchor=\"middle\" x=\"2207\" y=\"-409.8\" font-family=\"Helvetica,sans-Serif\" font-size=\"14.00\">X[0] &lt;= 87.875</text>\n<text text-anchor=\"middle\" x=\"2207\" y=\"-394.8\" font-family=\"Helvetica,sans-Serif\" font-size=\"14.00\">gini = 0.85</text>\n<text text-anchor=\"middle\" x=\"2207\" y=\"-379.8\" font-family=\"Helvetica,sans-Serif\" font-size=\"14.00\">samples = 3095</text>\n<text text-anchor=\"middle\" x=\"2207\" y=\"-364.8\" font-family=\"Helvetica,sans-Serif\" font-size=\"14.00\">value = [0, 0, 0, 0, 0, 278, 0, 432, 555, 396, 605, 434</text>\n<text text-anchor=\"middle\" x=\"2207\" y=\"-349.8\" font-family=\"Helvetica,sans-Serif\" font-size=\"14.00\">0, 395, 0, 0]</text>\n</g>\n<!-- 12&#45;&gt;13 -->\n<g id=\"edge13\" class=\"edge\">\n<title>12&#45;&gt;13</title>\n<path fill=\"none\" stroke=\"black\" d=\"M2207,-460.91C2207,-452.65 2207,-443.86 2207,-435.3\"/>\n<polygon fill=\"black\" stroke=\"black\" points=\"2210.5,-435.02 2207,-425.02 2203.5,-435.02 2210.5,-435.02\"/>\n</g>\n<!-- 26 -->\n<g id=\"node27\" class=\"node\">\n<title>26</title>\n<polygon fill=\"none\" stroke=\"black\" points=\"2734,-425 2448,-425 2448,-342 2734,-342 2734,-425\"/>\n<text text-anchor=\"middle\" x=\"2591\" y=\"-409.8\" font-family=\"Helvetica,sans-Serif\" font-size=\"14.00\">X[0] &lt;= 106.875</text>\n<text text-anchor=\"middle\" x=\"2591\" y=\"-394.8\" font-family=\"Helvetica,sans-Serif\" font-size=\"14.00\">gini = 0.642</text>\n<text text-anchor=\"middle\" x=\"2591\" y=\"-379.8\" font-family=\"Helvetica,sans-Serif\" font-size=\"14.00\">samples = 1323</text>\n<text text-anchor=\"middle\" x=\"2591\" y=\"-364.8\" font-family=\"Helvetica,sans-Serif\" font-size=\"14.00\">value = [0, 0, 0, 0, 0, 0, 0, 0, 0, 0, 0, 0, 560, 0</text>\n<text text-anchor=\"middle\" x=\"2591\" y=\"-349.8\" font-family=\"Helvetica,sans-Serif\" font-size=\"14.00\">485, 278]</text>\n</g>\n<!-- 12&#45;&gt;26 -->\n<g id=\"edge26\" class=\"edge\">\n<title>12&#45;&gt;26</title>\n<path fill=\"none\" stroke=\"black\" d=\"M2339.96,-460.99C2374.82,-450.37 2412.56,-438.87 2447.92,-428.09\"/>\n<polygon fill=\"black\" stroke=\"black\" points=\"2449.29,-431.34 2457.83,-425.07 2447.25,-424.64 2449.29,-431.34\"/>\n</g>\n<!-- 14 -->\n<g id=\"node15\" class=\"node\">\n<title>14</title>\n<polygon fill=\"none\" stroke=\"black\" points=\"2121,-306 1805,-306 1805,-223 2121,-223 2121,-306\"/>\n<text text-anchor=\"middle\" x=\"1963\" y=\"-290.8\" font-family=\"Helvetica,sans-Serif\" font-size=\"14.00\">X[2] &lt;= 11853.78</text>\n<text text-anchor=\"middle\" x=\"1963\" y=\"-275.8\" font-family=\"Helvetica,sans-Serif\" font-size=\"14.00\">gini = 0.736</text>\n<text text-anchor=\"middle\" x=\"1963\" y=\"-260.8\" font-family=\"Helvetica,sans-Serif\" font-size=\"14.00\">samples = 1661</text>\n<text text-anchor=\"middle\" x=\"1963\" y=\"-245.8\" font-family=\"Helvetica,sans-Serif\" font-size=\"14.00\">value = [0, 0, 0, 0, 0, 278, 0, 432, 555, 396, 0, 0, 0</text>\n<text text-anchor=\"middle\" x=\"1963\" y=\"-230.8\" font-family=\"Helvetica,sans-Serif\" font-size=\"14.00\">0, 0, 0]</text>\n</g>\n<!-- 13&#45;&gt;14 -->\n<g id=\"edge14\" class=\"edge\">\n<title>13&#45;&gt;14</title>\n<path fill=\"none\" stroke=\"black\" d=\"M2122.35,-341.91C2101.15,-331.74 2078.29,-320.78 2056.68,-310.42\"/>\n<polygon fill=\"black\" stroke=\"black\" points=\"2058.04,-307.19 2047.5,-306.02 2055.01,-313.5 2058.04,-307.19\"/>\n</g>\n<!-- 21 -->\n<g id=\"node22\" class=\"node\">\n<title>21</title>\n<polygon fill=\"none\" stroke=\"black\" points=\"2425,-306 2139,-306 2139,-223 2425,-223 2425,-306\"/>\n<text text-anchor=\"middle\" x=\"2282\" y=\"-290.8\" font-family=\"Helvetica,sans-Serif\" font-size=\"14.00\">X[0] &lt;= 97.875</text>\n<text text-anchor=\"middle\" x=\"2282\" y=\"-275.8\" font-family=\"Helvetica,sans-Serif\" font-size=\"14.00\">gini = 0.655</text>\n<text text-anchor=\"middle\" x=\"2282\" y=\"-260.8\" font-family=\"Helvetica,sans-Serif\" font-size=\"14.00\">samples = 1434</text>\n<text text-anchor=\"middle\" x=\"2282\" y=\"-245.8\" font-family=\"Helvetica,sans-Serif\" font-size=\"14.00\">value = [0, 0, 0, 0, 0, 0, 0, 0, 0, 0, 605, 434, 0</text>\n<text text-anchor=\"middle\" x=\"2282\" y=\"-230.8\" font-family=\"Helvetica,sans-Serif\" font-size=\"14.00\">395, 0, 0]</text>\n</g>\n<!-- 13&#45;&gt;21 -->\n<g id=\"edge21\" class=\"edge\">\n<title>13&#45;&gt;21</title>\n<path fill=\"none\" stroke=\"black\" d=\"M2233.02,-341.91C2238.66,-333.1 2244.69,-323.7 2250.52,-314.61\"/>\n<polygon fill=\"black\" stroke=\"black\" points=\"2253.57,-316.33 2256.03,-306.02 2247.68,-312.55 2253.57,-316.33\"/>\n</g>\n<!-- 15 -->\n<g id=\"node16\" class=\"node\">\n<title>15</title>\n<polygon fill=\"none\" stroke=\"black\" points=\"1798.5,-187 1497.5,-187 1497.5,-104 1798.5,-104 1798.5,-187\"/>\n<text text-anchor=\"middle\" x=\"1648\" y=\"-171.8\" font-family=\"Helvetica,sans-Serif\" font-size=\"14.00\">X[0] &lt;= 71.875</text>\n<text text-anchor=\"middle\" x=\"1648\" y=\"-156.8\" font-family=\"Helvetica,sans-Serif\" font-size=\"14.00\">gini = 0.476</text>\n<text text-anchor=\"middle\" x=\"1648\" y=\"-141.8\" font-family=\"Helvetica,sans-Serif\" font-size=\"14.00\">samples = 710</text>\n<text text-anchor=\"middle\" x=\"1648\" y=\"-126.8\" font-family=\"Helvetica,sans-Serif\" font-size=\"14.00\">value = [0, 0, 0, 0, 0, 278, 0, 432, 0, 0, 0, 0, 0, 0</text>\n<text text-anchor=\"middle\" x=\"1648\" y=\"-111.8\" font-family=\"Helvetica,sans-Serif\" font-size=\"14.00\">0, 0]</text>\n</g>\n<!-- 14&#45;&gt;15 -->\n<g id=\"edge15\" class=\"edge\">\n<title>14&#45;&gt;15</title>\n<path fill=\"none\" stroke=\"black\" d=\"M1853.71,-222.91C1825.61,-212.47 1795.25,-201.19 1766.7,-190.59\"/>\n<polygon fill=\"black\" stroke=\"black\" points=\"1767.69,-187.22 1757.09,-187.02 1765.25,-193.78 1767.69,-187.22\"/>\n</g>\n<!-- 18 -->\n<g id=\"node19\" class=\"node\">\n<title>18</title>\n<polygon fill=\"none\" stroke=\"black\" points=\"2117.5,-187 1816.5,-187 1816.5,-104 2117.5,-104 2117.5,-187\"/>\n<text text-anchor=\"middle\" x=\"1967\" y=\"-171.8\" font-family=\"Helvetica,sans-Serif\" font-size=\"14.00\">X[0] &lt;= 80.875</text>\n<text text-anchor=\"middle\" x=\"1967\" y=\"-156.8\" font-family=\"Helvetica,sans-Serif\" font-size=\"14.00\">gini = 0.486</text>\n<text text-anchor=\"middle\" x=\"1967\" y=\"-141.8\" font-family=\"Helvetica,sans-Serif\" font-size=\"14.00\">samples = 951</text>\n<text text-anchor=\"middle\" x=\"1967\" y=\"-126.8\" font-family=\"Helvetica,sans-Serif\" font-size=\"14.00\">value = [0, 0, 0, 0, 0, 0, 0, 0, 555, 396, 0, 0, 0, 0</text>\n<text text-anchor=\"middle\" x=\"1967\" y=\"-111.8\" font-family=\"Helvetica,sans-Serif\" font-size=\"14.00\">0, 0]</text>\n</g>\n<!-- 14&#45;&gt;18 -->\n<g id=\"edge18\" class=\"edge\">\n<title>14&#45;&gt;18</title>\n<path fill=\"none\" stroke=\"black\" d=\"M1964.39,-222.91C1964.67,-214.56 1964.98,-205.67 1965.27,-197.02\"/>\n<polygon fill=\"black\" stroke=\"black\" points=\"1968.77,-197.13 1965.61,-187.02 1961.77,-196.9 1968.77,-197.13\"/>\n</g>\n<!-- 16 -->\n<g id=\"node17\" class=\"node\">\n<title>16</title>\n<polygon fill=\"none\" stroke=\"black\" points=\"1502,-68 1216,-68 1216,0 1502,0 1502,-68\"/>\n<text text-anchor=\"middle\" x=\"1359\" y=\"-52.8\" font-family=\"Helvetica,sans-Serif\" font-size=\"14.00\">gini = 0.0</text>\n<text text-anchor=\"middle\" x=\"1359\" y=\"-37.8\" font-family=\"Helvetica,sans-Serif\" font-size=\"14.00\">samples = 278</text>\n<text text-anchor=\"middle\" x=\"1359\" y=\"-22.8\" font-family=\"Helvetica,sans-Serif\" font-size=\"14.00\">value = [0, 0, 0, 0, 0, 278, 0, 0, 0, 0, 0, 0, 0, 0</text>\n<text text-anchor=\"middle\" x=\"1359\" y=\"-7.8\" font-family=\"Helvetica,sans-Serif\" font-size=\"14.00\">0, 0]</text>\n</g>\n<!-- 15&#45;&gt;16 -->\n<g id=\"edge16\" class=\"edge\">\n<title>15&#45;&gt;16</title>\n<path fill=\"none\" stroke=\"black\" d=\"M1540.8,-103.88C1512.92,-93.32 1483.06,-82 1455.75,-71.66\"/>\n<polygon fill=\"black\" stroke=\"black\" points=\"1456.8,-68.31 1446.21,-68.04 1454.32,-74.86 1456.8,-68.31\"/>\n</g>\n<!-- 17 -->\n<g id=\"node18\" class=\"node\">\n<title>17</title>\n<polygon fill=\"none\" stroke=\"black\" points=\"1806,-68 1520,-68 1520,0 1806,0 1806,-68\"/>\n<text text-anchor=\"middle\" x=\"1663\" y=\"-52.8\" font-family=\"Helvetica,sans-Serif\" font-size=\"14.00\">gini = 0.0</text>\n<text text-anchor=\"middle\" x=\"1663\" y=\"-37.8\" font-family=\"Helvetica,sans-Serif\" font-size=\"14.00\">samples = 432</text>\n<text text-anchor=\"middle\" x=\"1663\" y=\"-22.8\" font-family=\"Helvetica,sans-Serif\" font-size=\"14.00\">value = [0, 0, 0, 0, 0, 0, 0, 432, 0, 0, 0, 0, 0, 0</text>\n<text text-anchor=\"middle\" x=\"1663\" y=\"-7.8\" font-family=\"Helvetica,sans-Serif\" font-size=\"14.00\">0, 0]</text>\n</g>\n<!-- 15&#45;&gt;17 -->\n<g id=\"edge17\" class=\"edge\">\n<title>15&#45;&gt;17</title>\n<path fill=\"none\" stroke=\"black\" d=\"M1653.59,-103.73C1654.72,-95.43 1655.92,-86.67 1657.07,-78.28\"/>\n<polygon fill=\"black\" stroke=\"black\" points=\"1660.55,-78.68 1658.44,-68.3 1653.61,-77.73 1660.55,-78.68\"/>\n</g>\n<!-- 19 -->\n<g id=\"node20\" class=\"node\">\n<title>19</title>\n<polygon fill=\"none\" stroke=\"black\" points=\"2110,-68 1824,-68 1824,0 2110,0 2110,-68\"/>\n<text text-anchor=\"middle\" x=\"1967\" y=\"-52.8\" font-family=\"Helvetica,sans-Serif\" font-size=\"14.00\">gini = 0.0</text>\n<text text-anchor=\"middle\" x=\"1967\" y=\"-37.8\" font-family=\"Helvetica,sans-Serif\" font-size=\"14.00\">samples = 555</text>\n<text text-anchor=\"middle\" x=\"1967\" y=\"-22.8\" font-family=\"Helvetica,sans-Serif\" font-size=\"14.00\">value = [0, 0, 0, 0, 0, 0, 0, 0, 555, 0, 0, 0, 0, 0</text>\n<text text-anchor=\"middle\" x=\"1967\" y=\"-7.8\" font-family=\"Helvetica,sans-Serif\" font-size=\"14.00\">0, 0]</text>\n</g>\n<!-- 18&#45;&gt;19 -->\n<g id=\"edge19\" class=\"edge\">\n<title>18&#45;&gt;19</title>\n<path fill=\"none\" stroke=\"black\" d=\"M1967,-103.73C1967,-95.52 1967,-86.86 1967,-78.56\"/>\n<polygon fill=\"black\" stroke=\"black\" points=\"1970.5,-78.3 1967,-68.3 1963.5,-78.3 1970.5,-78.3\"/>\n</g>\n<!-- 20 -->\n<g id=\"node21\" class=\"node\">\n<title>20</title>\n<polygon fill=\"none\" stroke=\"black\" points=\"2414,-68 2128,-68 2128,0 2414,0 2414,-68\"/>\n<text text-anchor=\"middle\" x=\"2271\" y=\"-52.8\" font-family=\"Helvetica,sans-Serif\" font-size=\"14.00\">gini = 0.0</text>\n<text text-anchor=\"middle\" x=\"2271\" y=\"-37.8\" font-family=\"Helvetica,sans-Serif\" font-size=\"14.00\">samples = 396</text>\n<text text-anchor=\"middle\" x=\"2271\" y=\"-22.8\" font-family=\"Helvetica,sans-Serif\" font-size=\"14.00\">value = [0, 0, 0, 0, 0, 0, 0, 0, 0, 396, 0, 0, 0, 0</text>\n<text text-anchor=\"middle\" x=\"2271\" y=\"-7.8\" font-family=\"Helvetica,sans-Serif\" font-size=\"14.00\">0, 0]</text>\n</g>\n<!-- 18&#45;&gt;20 -->\n<g id=\"edge20\" class=\"edge\">\n<title>18&#45;&gt;20</title>\n<path fill=\"none\" stroke=\"black\" d=\"M2079.77,-103.88C2109.22,-93.27 2140.78,-81.91 2169.6,-71.52\"/>\n<polygon fill=\"black\" stroke=\"black\" points=\"2171.04,-74.73 2179.26,-68.04 2168.67,-68.14 2171.04,-74.73\"/>\n</g>\n<!-- 22 -->\n<g id=\"node23\" class=\"node\">\n<title>22</title>\n<polygon fill=\"none\" stroke=\"black\" points=\"2422,-179.5 2136,-179.5 2136,-111.5 2422,-111.5 2422,-179.5\"/>\n<text text-anchor=\"middle\" x=\"2279\" y=\"-164.3\" font-family=\"Helvetica,sans-Serif\" font-size=\"14.00\">gini = 0.0</text>\n<text text-anchor=\"middle\" x=\"2279\" y=\"-149.3\" font-family=\"Helvetica,sans-Serif\" font-size=\"14.00\">samples = 605</text>\n<text text-anchor=\"middle\" x=\"2279\" y=\"-134.3\" font-family=\"Helvetica,sans-Serif\" font-size=\"14.00\">value = [0, 0, 0, 0, 0, 0, 0, 0, 0, 0, 605, 0, 0, 0</text>\n<text text-anchor=\"middle\" x=\"2279\" y=\"-119.3\" font-family=\"Helvetica,sans-Serif\" font-size=\"14.00\">0, 0]</text>\n</g>\n<!-- 21&#45;&gt;22 -->\n<g id=\"edge22\" class=\"edge\">\n<title>21&#45;&gt;22</title>\n<path fill=\"none\" stroke=\"black\" d=\"M2280.96,-222.91C2280.68,-212.2 2280.39,-200.62 2280.11,-189.78\"/>\n<polygon fill=\"black\" stroke=\"black\" points=\"2283.61,-189.57 2279.85,-179.67 2276.61,-189.75 2283.61,-189.57\"/>\n</g>\n<!-- 23 -->\n<g id=\"node24\" class=\"node\">\n<title>23</title>\n<polygon fill=\"none\" stroke=\"black\" points=\"2741.5,-187 2440.5,-187 2440.5,-104 2741.5,-104 2741.5,-187\"/>\n<text text-anchor=\"middle\" x=\"2591\" y=\"-171.8\" font-family=\"Helvetica,sans-Serif\" font-size=\"14.00\">X[0] &lt;= 106.875</text>\n<text text-anchor=\"middle\" x=\"2591\" y=\"-156.8\" font-family=\"Helvetica,sans-Serif\" font-size=\"14.00\">gini = 0.499</text>\n<text text-anchor=\"middle\" x=\"2591\" y=\"-141.8\" font-family=\"Helvetica,sans-Serif\" font-size=\"14.00\">samples = 829</text>\n<text text-anchor=\"middle\" x=\"2591\" y=\"-126.8\" font-family=\"Helvetica,sans-Serif\" font-size=\"14.00\">value = [0, 0, 0, 0, 0, 0, 0, 0, 0, 0, 0, 434, 0, 395</text>\n<text text-anchor=\"middle\" x=\"2591\" y=\"-111.8\" font-family=\"Helvetica,sans-Serif\" font-size=\"14.00\">0, 0]</text>\n</g>\n<!-- 21&#45;&gt;23 -->\n<g id=\"edge23\" class=\"edge\">\n<title>21&#45;&gt;23</title>\n<path fill=\"none\" stroke=\"black\" d=\"M2389.21,-222.91C2416.77,-212.47 2446.55,-201.19 2474.56,-190.59\"/>\n<polygon fill=\"black\" stroke=\"black\" points=\"2475.87,-193.84 2483.98,-187.02 2473.39,-187.29 2475.87,-193.84\"/>\n</g>\n<!-- 24 -->\n<g id=\"node25\" class=\"node\">\n<title>24</title>\n<polygon fill=\"none\" stroke=\"black\" points=\"2726,-68 2440,-68 2440,0 2726,0 2726,-68\"/>\n<text text-anchor=\"middle\" x=\"2583\" y=\"-52.8\" font-family=\"Helvetica,sans-Serif\" font-size=\"14.00\">gini = 0.0</text>\n<text text-anchor=\"middle\" x=\"2583\" y=\"-37.8\" font-family=\"Helvetica,sans-Serif\" font-size=\"14.00\">samples = 434</text>\n<text text-anchor=\"middle\" x=\"2583\" y=\"-22.8\" font-family=\"Helvetica,sans-Serif\" font-size=\"14.00\">value = [0, 0, 0, 0, 0, 0, 0, 0, 0, 0, 0, 434, 0, 0</text>\n<text text-anchor=\"middle\" x=\"2583\" y=\"-7.8\" font-family=\"Helvetica,sans-Serif\" font-size=\"14.00\">0, 0]</text>\n</g>\n<!-- 23&#45;&gt;24 -->\n<g id=\"edge24\" class=\"edge\">\n<title>23&#45;&gt;24</title>\n<path fill=\"none\" stroke=\"black\" d=\"M2588.02,-103.73C2587.41,-95.43 2586.77,-86.67 2586.16,-78.28\"/>\n<polygon fill=\"black\" stroke=\"black\" points=\"2589.65,-78.02 2585.43,-68.3 2582.67,-78.53 2589.65,-78.02\"/>\n</g>\n<!-- 25 -->\n<g id=\"node26\" class=\"node\">\n<title>25</title>\n<polygon fill=\"none\" stroke=\"black\" points=\"3030,-68 2744,-68 2744,0 3030,0 3030,-68\"/>\n<text text-anchor=\"middle\" x=\"2887\" y=\"-52.8\" font-family=\"Helvetica,sans-Serif\" font-size=\"14.00\">gini = 0.0</text>\n<text text-anchor=\"middle\" x=\"2887\" y=\"-37.8\" font-family=\"Helvetica,sans-Serif\" font-size=\"14.00\">samples = 395</text>\n<text text-anchor=\"middle\" x=\"2887\" y=\"-22.8\" font-family=\"Helvetica,sans-Serif\" font-size=\"14.00\">value = [0, 0, 0, 0, 0, 0, 0, 0, 0, 0, 0, 0, 0, 395</text>\n<text text-anchor=\"middle\" x=\"2887\" y=\"-7.8\" font-family=\"Helvetica,sans-Serif\" font-size=\"14.00\">0, 0]</text>\n</g>\n<!-- 23&#45;&gt;25 -->\n<g id=\"edge25\" class=\"edge\">\n<title>23&#45;&gt;25</title>\n<path fill=\"none\" stroke=\"black\" d=\"M2700.8,-103.88C2729.48,-93.27 2760.21,-81.91 2788.27,-71.52\"/>\n<polygon fill=\"black\" stroke=\"black\" points=\"2789.51,-74.8 2797.68,-68.04 2787.08,-68.23 2789.51,-74.8\"/>\n</g>\n<!-- 27 -->\n<g id=\"node28\" class=\"node\">\n<title>27</title>\n<polygon fill=\"none\" stroke=\"black\" points=\"2734,-298.5 2448,-298.5 2448,-230.5 2734,-230.5 2734,-298.5\"/>\n<text text-anchor=\"middle\" x=\"2591\" y=\"-283.3\" font-family=\"Helvetica,sans-Serif\" font-size=\"14.00\">gini = 0.0</text>\n<text text-anchor=\"middle\" x=\"2591\" y=\"-268.3\" font-family=\"Helvetica,sans-Serif\" font-size=\"14.00\">samples = 560</text>\n<text text-anchor=\"middle\" x=\"2591\" y=\"-253.3\" font-family=\"Helvetica,sans-Serif\" font-size=\"14.00\">value = [0, 0, 0, 0, 0, 0, 0, 0, 0, 0, 0, 0, 560, 0</text>\n<text text-anchor=\"middle\" x=\"2591\" y=\"-238.3\" font-family=\"Helvetica,sans-Serif\" font-size=\"14.00\">0, 0]</text>\n</g>\n<!-- 26&#45;&gt;27 -->\n<g id=\"edge27\" class=\"edge\">\n<title>26&#45;&gt;27</title>\n<path fill=\"none\" stroke=\"black\" d=\"M2591,-341.91C2591,-331.2 2591,-319.62 2591,-308.78\"/>\n<polygon fill=\"black\" stroke=\"black\" points=\"2594.5,-308.67 2591,-298.67 2587.5,-308.67 2594.5,-308.67\"/>\n</g>\n<!-- 28 -->\n<g id=\"node29\" class=\"node\">\n<title>28</title>\n<polygon fill=\"none\" stroke=\"black\" points=\"3030.5,-306 2759.5,-306 2759.5,-223 3030.5,-223 3030.5,-306\"/>\n<text text-anchor=\"middle\" x=\"2895\" y=\"-290.8\" font-family=\"Helvetica,sans-Serif\" font-size=\"14.00\">X[0] &lt;= 114.875</text>\n<text text-anchor=\"middle\" x=\"2895\" y=\"-275.8\" font-family=\"Helvetica,sans-Serif\" font-size=\"14.00\">gini = 0.463</text>\n<text text-anchor=\"middle\" x=\"2895\" y=\"-260.8\" font-family=\"Helvetica,sans-Serif\" font-size=\"14.00\">samples = 763</text>\n<text text-anchor=\"middle\" x=\"2895\" y=\"-245.8\" font-family=\"Helvetica,sans-Serif\" font-size=\"14.00\">value = [0, 0, 0, 0, 0, 0, 0, 0, 0, 0, 0, 0, 0, 0</text>\n<text text-anchor=\"middle\" x=\"2895\" y=\"-230.8\" font-family=\"Helvetica,sans-Serif\" font-size=\"14.00\">485, 278]</text>\n</g>\n<!-- 26&#45;&gt;28 -->\n<g id=\"edge28\" class=\"edge\">\n<title>26&#45;&gt;28</title>\n<path fill=\"none\" stroke=\"black\" d=\"M2696.47,-341.91C2723.47,-331.52 2752.64,-320.29 2780.08,-309.73\"/>\n<polygon fill=\"black\" stroke=\"black\" points=\"2781.64,-312.88 2789.72,-306.02 2779.13,-306.35 2781.64,-312.88\"/>\n</g>\n<!-- 29 -->\n<g id=\"node30\" class=\"node\">\n<title>29</title>\n<polygon fill=\"none\" stroke=\"black\" points=\"3030.5,-179.5 2759.5,-179.5 2759.5,-111.5 3030.5,-111.5 3030.5,-179.5\"/>\n<text text-anchor=\"middle\" x=\"2895\" y=\"-164.3\" font-family=\"Helvetica,sans-Serif\" font-size=\"14.00\">gini = 0.0</text>\n<text text-anchor=\"middle\" x=\"2895\" y=\"-149.3\" font-family=\"Helvetica,sans-Serif\" font-size=\"14.00\">samples = 485</text>\n<text text-anchor=\"middle\" x=\"2895\" y=\"-134.3\" font-family=\"Helvetica,sans-Serif\" font-size=\"14.00\">value = [0, 0, 0, 0, 0, 0, 0, 0, 0, 0, 0, 0, 0, 0</text>\n<text text-anchor=\"middle\" x=\"2895\" y=\"-119.3\" font-family=\"Helvetica,sans-Serif\" font-size=\"14.00\">485, 0]</text>\n</g>\n<!-- 28&#45;&gt;29 -->\n<g id=\"edge29\" class=\"edge\">\n<title>28&#45;&gt;29</title>\n<path fill=\"none\" stroke=\"black\" d=\"M2895,-222.91C2895,-212.2 2895,-200.62 2895,-189.78\"/>\n<polygon fill=\"black\" stroke=\"black\" points=\"2898.5,-189.67 2895,-179.67 2891.5,-189.67 2898.5,-189.67\"/>\n</g>\n<!-- 30 -->\n<g id=\"node31\" class=\"node\">\n<title>30</title>\n<polygon fill=\"none\" stroke=\"black\" points=\"3319.5,-179.5 3048.5,-179.5 3048.5,-111.5 3319.5,-111.5 3319.5,-179.5\"/>\n<text text-anchor=\"middle\" x=\"3184\" y=\"-164.3\" font-family=\"Helvetica,sans-Serif\" font-size=\"14.00\">gini = 0.0</text>\n<text text-anchor=\"middle\" x=\"3184\" y=\"-149.3\" font-family=\"Helvetica,sans-Serif\" font-size=\"14.00\">samples = 278</text>\n<text text-anchor=\"middle\" x=\"3184\" y=\"-134.3\" font-family=\"Helvetica,sans-Serif\" font-size=\"14.00\">value = [0, 0, 0, 0, 0, 0, 0, 0, 0, 0, 0, 0, 0, 0</text>\n<text text-anchor=\"middle\" x=\"3184\" y=\"-119.3\" font-family=\"Helvetica,sans-Serif\" font-size=\"14.00\">0, 278]</text>\n</g>\n<!-- 28&#45;&gt;30 -->\n<g id=\"edge30\" class=\"edge\">\n<title>28&#45;&gt;30</title>\n<path fill=\"none\" stroke=\"black\" d=\"M2995.27,-222.91C3026.88,-210.11 3061.63,-196.04 3092.59,-183.51\"/>\n<polygon fill=\"black\" stroke=\"black\" points=\"3094.12,-186.66 3102.07,-179.67 3091.49,-180.18 3094.12,-186.66\"/>\n</g>\n</g>\n</svg>\n",
      "text/plain": "<graphviz.sources.Source at 0x13642d8b0>"
     },
     "execution_count": 687,
     "metadata": {},
     "output_type": "execute_result"
    }
   ],
   "source": [
    "import graphviz\n",
    "dot_data = tree.export_graphviz(tree_classifier, out_file=None)\n",
    "graphs = graphviz.Source(dot_data)\n",
    "graphs.render(\"iris\")\n",
    "dot_data = tree.export_graphviz(tree_classifier, out_file=None)\n",
    "graphs = graphviz.Source(dot_data)\n",
    "graphs\n"
   ]
  },
  {
   "cell_type": "code",
   "execution_count": 688,
   "metadata": {
    "pycharm": {
     "name": "#%%\n"
    }
   },
   "outputs": [
    {
     "name": "stdout",
     "output_type": "stream",
     "text": [
      "       waist    hips  hips-squared\n",
      "6268   85.50  110.00      12100.00\n",
      "5661   77.75  113.25      12825.56\n",
      "5357   74.00  112.25      12600.06\n",
      "5252   72.75  111.00      12321.00\n",
      "4962   77.50  105.50      11130.25\n",
      "...      ...     ...           ...\n",
      "1272   67.25   85.00       7225.00\n",
      "8857  111.50  116.25      13514.06\n",
      "6355   86.50  111.75      12488.06\n",
      "3919   75.50  100.75      10150.56\n",
      "170    61.75   85.50       7310.25\n",
      "\n",
      "[2524 rows x 3 columns]\n"
     ]
    },
    {
     "data": {
      "text/plain": "array([10])"
     },
     "execution_count": 688,
     "metadata": {},
     "output_type": "execute_result"
    }
   ],
   "source": [
    "# Predict for 1 observation\n",
    "print(X_test)\n",
    "x_test_iloc = X_test.iloc[0].values.reshape(1, -1)\n",
    "tree_classifier.predict(x_test_iloc)\n"
   ]
  },
  {
   "cell_type": "code",
   "execution_count": 689,
   "metadata": {
    "pycharm": {
     "name": "#%%\n"
    }
   },
   "outputs": [],
   "source": [
    "size = [\n",
    "    '0-6',\n",
    "    '0-8',\n",
    "    '2-6',\n",
    "    '2-8',\n",
    "    '2-10',\n",
    "    '2-12',\n",
    "    '4-10',\n",
    "    '4-12',\n",
    "    '4-14',\n",
    "    '6-14',\n",
    "    '8-14',\n",
    "    '10-16',\n",
    "    '10-18',\n",
    "    '12-16',\n",
    "    '12-18',\n",
    "    '16-20',\n",
    "]\n"
   ]
  },
  {
   "cell_type": "code",
   "execution_count": 690,
   "metadata": {
    "pycharm": {
     "name": "#%%\n"
    }
   },
   "outputs": [
    {
     "name": "stdout",
     "output_type": "stream",
     "text": [
      "   waist  hips  hips-squared\n",
      "0     69    86        7396.0\n",
      "1     74    88        7744.0\n",
      "2     72    90        8100.0\n",
      "3     65    98        9604.0\n"
     ]
    }
   ],
   "source": [
    "import pandas as pd\n",
    "\n",
    "test_brenda = [\n",
    "    [69, 86],\n",
    "    [74, 88],\n",
    "    [72, 90],\n",
    "    [65, 98],\n",
    "]\n",
    "df_brenda = pd.DataFrame(test_brenda, columns=['waist', 'hips'])\n",
    "df_brenda['hips-squared'] = df_brenda['hips'] * df_brenda['hips']\n",
    "df_brenda['hips-squared'] = df_brenda['hips-squared'].apply(round_decimal)\n",
    "print(df_brenda)\n"
   ]
  },
  {
   "cell_type": "code",
   "execution_count": 691,
   "metadata": {
    "pycharm": {
     "name": "#%%\n"
    }
   },
   "outputs": [
    {
     "name": "stdout",
     "output_type": "stream",
     "text": [
      "[3 7 7 5]\n",
      "4-10\n"
     ]
    }
   ],
   "source": [
    "waist_test = 75\n",
    "hips_test = 100\n",
    "size_tree = tree_classifier.predict(df_brenda.values)\n",
    "size_tree_one = tree_classifier.predict(\n",
    "    [[waist_test, hips_test, hips_test**2]])\n",
    "print(size_tree)\n",
    "print(size[size_tree_one[0] - 1])\n"
   ]
  },
  {
   "cell_type": "code",
   "execution_count": 692,
   "metadata": {
    "pycharm": {
     "name": "#%%\n"
    }
   },
   "outputs": [
    {
     "name": "stdout",
     "output_type": "stream",
     "text": [
      "2-6\n",
      "4-10\n",
      "4-10\n",
      "2-10\n"
     ]
    }
   ],
   "source": [
    "for z in size_tree:\n",
    "    print(size[z - 1])\n"
   ]
  },
  {
   "cell_type": "code",
   "execution_count": 693,
   "metadata": {
    "pycharm": {
     "name": "#%%\n"
    }
   },
   "outputs": [
    {
     "name": "stdout",
     "output_type": "stream",
     "text": [
      "1.0\n"
     ]
    }
   ],
   "source": [
    "score = tree_classifier.score(X_test, y_test)\n",
    "print(score)\n"
   ]
  },
  {
   "cell_type": "code",
   "execution_count": 694,
   "metadata": {
    "pycharm": {
     "name": "#%%\n"
    }
   },
   "outputs": [
    {
     "name": "stdout",
     "output_type": "stream",
     "text": [
      "[1.0, 1.0, 1.0, 1.0, 1.0]\n"
     ]
    }
   ],
   "source": [
    "# List of values to try for max_depth:\n",
    "max_depth_range = list(range(1, 6))\n",
    "\n",
    "# List to store the accuracy for each value of max_depth:\n",
    "accuracy = []\n",
    "\n",
    "for depth in max_depth_range:\n",
    "    clf = DecisionTreeClassifier(max_depth=depth, random_state=0)\n",
    "    clf.fit(X_train, y_train)\n",
    "\n",
    "    score = tree_classifier.score(X_test, y_test)\n",
    "    accuracy.append(score)\n",
    "\n",
    "print(accuracy)\n"
   ]
  },
  {
   "cell_type": "code",
   "execution_count": 695,
   "metadata": {
    "pycharm": {
     "name": "#%%\n"
    }
   },
   "outputs": [
    {
     "data": {
      "text/plain": "<seaborn.axisgrid.FacetGrid at 0x1397c5fd0>"
     },
     "execution_count": 695,
     "metadata": {},
     "output_type": "execute_result"
    },
    {
     "data": {
      "text/plain": "<Figure size 360x360 with 1 Axes>",
      "image/png": "[encoded data removed]"
     },
     "metadata": {
      "needs_background": "light"
     },
     "output_type": "display_data"
    }
   ],
   "source": [
    "sns.displot(accuracy, kind=\"ecdf\")\n"
   ]
  }
 ],
 "metadata": {
  "kernelspec": {
   "display_name": "Python 3.9.13 ('.env': venv)",
   "language": "python",
   "name": "python3"
  },
  "language_info": {
   "codemirror_mode": {
    "name": "ipython",
    "version": 3
   },
   "file_extension": ".py",
   "mimetype": "text/x-python",
   "name": "python",
   "nbconvert_exporter": "python",
   "pygments_lexer": "ipython3",
   "version": "3.9.13"
  },
  "orig_nbformat": 4,
  "vscode": {
   "interpreter": {
    "hash": "88bd8235d1f14aa84a7e6495b5d200bcedc6b3380d019526373b0ee519c633cd"
   }
  }
 },
 "nbformat": 4,
 "nbformat_minor": 2
}